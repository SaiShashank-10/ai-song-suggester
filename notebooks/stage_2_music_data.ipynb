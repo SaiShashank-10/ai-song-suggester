{
 "cells": [
  {
   "cell_type": "code",
   "execution_count": 21,
   "id": "cf70b740",
   "metadata": {},
   "outputs": [
    {
     "name": "stdout",
     "output_type": "stream",
     "text": [
      "Requirement already satisfied: spotipy in c:\\shashank\\ai-song-suggester\\.venv\\lib\\site-packages (2.25.1)\n",
      "Requirement already satisfied: pandas in c:\\shashank\\ai-song-suggester\\.venv\\lib\\site-packages (2.3.2)\n",
      "Requirement already satisfied: redis>=3.5.3 in c:\\shashank\\ai-song-suggester\\.venv\\lib\\site-packages (from spotipy) (6.4.0)\n",
      "Requirement already satisfied: requests>=2.25.0 in c:\\shashank\\ai-song-suggester\\.venv\\lib\\site-packages (from spotipy) (2.32.5)\n",
      "Requirement already satisfied: urllib3>=1.26.0 in c:\\shashank\\ai-song-suggester\\.venv\\lib\\site-packages (from spotipy) (2.5.0)\n",
      "Requirement already satisfied: numpy>=1.26.0 in c:\\shashank\\ai-song-suggester\\.venv\\lib\\site-packages (from pandas) (2.3.3)\n",
      "Requirement already satisfied: python-dateutil>=2.8.2 in c:\\shashank\\ai-song-suggester\\.venv\\lib\\site-packages (from pandas) (2.9.0.post0)\n",
      "Requirement already satisfied: pytz>=2020.1 in c:\\shashank\\ai-song-suggester\\.venv\\lib\\site-packages (from pandas) (2025.2)\n",
      "Requirement already satisfied: tzdata>=2022.7 in c:\\shashank\\ai-song-suggester\\.venv\\lib\\site-packages (from pandas) (2025.2)\n",
      "Requirement already satisfied: six>=1.5 in c:\\shashank\\ai-song-suggester\\.venv\\lib\\site-packages (from python-dateutil>=2.8.2->pandas) (1.17.0)\n",
      "Requirement already satisfied: charset_normalizer<4,>=2 in c:\\shashank\\ai-song-suggester\\.venv\\lib\\site-packages (from requests>=2.25.0->spotipy) (3.4.3)\n",
      "Requirement already satisfied: idna<4,>=2.5 in c:\\shashank\\ai-song-suggester\\.venv\\lib\\site-packages (from requests>=2.25.0->spotipy) (3.10)\n",
      "Requirement already satisfied: certifi>=2017.4.17 in c:\\shashank\\ai-song-suggester\\.venv\\lib\\site-packages (from requests>=2.25.0->spotipy) (2025.8.3)\n",
      "Note: you may need to restart the kernel to use updated packages.\n"
     ]
    }
   ],
   "source": [
    "pip install spotipy pandas"
   ]
  },
  {
   "cell_type": "code",
   "execution_count": 3,
   "id": "95e62333",
   "metadata": {},
   "outputs": [
    {
     "name": "stdout",
     "output_type": "stream",
     "text": [
      "Collecting tqdm\n",
      "  Using cached tqdm-4.67.1-py3-none-any.whl.metadata (57 kB)\n",
      "Requirement already satisfied: colorama in c:\\shashank\\ai-song-suggester\\.venv\\lib\\site-packages (from tqdm) (0.4.6)\n",
      "Using cached tqdm-4.67.1-py3-none-any.whl (78 kB)\n",
      "Installing collected packages: tqdm\n",
      "Successfully installed tqdm-4.67.1\n",
      "Note: you may need to restart the kernel to use updated packages.\n"
     ]
    }
   ],
   "source": [
    "pip install tqdm\n"
   ]
  },
  {
   "cell_type": "code",
   "execution_count": 19,
   "id": "72e61f22",
   "metadata": {},
   "outputs": [
    {
     "name": "stdout",
     "output_type": "stream",
     "text": [
      "🔐 Authenticating with Spotify...\n",
      "✅ Successfully authenticated with Spotify!\n",
      "\n",
      "🚀 Starting to fetch song data from Spotify playlists...\n",
      "\n",
      "[1/5] Processing playlist: 37i9dQZF1DWXRqgorJj26U\n"
     ]
    },
    {
     "name": "stderr",
     "output_type": "stream",
     "text": [
      "HTTP Error for GET to https://api.spotify.com/v1/playlists/37i9dQZF1DWXRqgorJj26U with Params: {'fields': 'name,owner.display_name,public,tracks.total', 'market': None, 'additional_types': 'track'} returned 404 due to Resource not found\n"
     ]
    },
    {
     "name": "stdout",
     "output_type": "stream",
     "text": [
      "  ❌ Could not access playlist 37i9dQZF1DWXRqgorJj26U\n",
      "\n",
      "[2/5] Processing playlist: 5iwkYfnHAGMEFLiHFFGnP4\n",
      "  📋 Playlist: 'HITS 2025 - Today's Top Songs' by Topsify\n",
      "  📊 Total tracks: 60\n"
     ]
    },
    {
     "name": "stderr",
     "output_type": "stream",
     "text": [
      "                                                            \r"
     ]
    },
    {
     "name": "stdout",
     "output_type": "stream",
     "text": [
      "  ✅ Successfully fetched 60 tracks\n",
      "  📈 Running total: 60 tracks\n",
      "\n",
      "[3/5] Processing playlist: 0MjxRIyt08vQ0QPDE02Zj2\n",
      "  📋 Playlist: 'Hits 2025' by my.charts.music\n",
      "  📊 Total tracks: 807\n"
     ]
    },
    {
     "name": "stderr",
     "output_type": "stream",
     "text": [
      "                                                                        \r"
     ]
    },
    {
     "name": "stdout",
     "output_type": "stream",
     "text": [
      "  ✅ Successfully fetched 807 tracks\n",
      "  📈 Running total: 867 tracks\n",
      "\n",
      "[4/5] Processing playlist: 3Me7esQS0xZkSbW0XW7roB\n",
      "  📋 Playlist: '2025 HITS 🔥 🔥🔥 BEST HITS 2025 / Top Hits ' by partyfiesta!\n",
      "  📊 Total tracks: 247\n"
     ]
    },
    {
     "name": "stderr",
     "output_type": "stream",
     "text": [
      "                                                                        \r"
     ]
    },
    {
     "name": "stdout",
     "output_type": "stream",
     "text": [
      "  ✅ Successfully fetched 247 tracks\n",
      "  📈 Running total: 1114 tracks\n",
      "\n",
      "[5/5] Processing playlist: 1YUVG3tWJL8bYRpNiRFd29\n",
      "  📋 Playlist: 'Telugu Playlist' by karthik varma\n",
      "  📊 Total tracks: 61\n"
     ]
    },
    {
     "name": "stderr",
     "output_type": "stream",
     "text": [
      "                                                            "
     ]
    },
    {
     "name": "stdout",
     "output_type": "stream",
     "text": [
      "  ✅ Successfully fetched 61 tracks\n",
      "  📈 Running total: 1175 tracks\n",
      "\n",
      "📊 Summary:\n",
      "  • Processed 4/5 playlists successfully\n",
      "  • Total tracks fetched: 1175\n",
      "\n",
      "✅ Success!\n",
      "  • Removed 97 duplicate tracks\n",
      "  • Saved 1078 unique tracks to 'spotify_songs.csv'\n",
      "\n",
      "📋 Dataset preview:\n",
      "              playlist_id                  playlist_name  \\\n",
      "0  5iwkYfnHAGMEFLiHFFGnP4  HITS 2025 - Today's Top Songs   \n",
      "1  5iwkYfnHAGMEFLiHFFGnP4  HITS 2025 - Today's Top Songs   \n",
      "2  5iwkYfnHAGMEFLiHFFGnP4  HITS 2025 - Today's Top Songs   \n",
      "3  5iwkYfnHAGMEFLiHFFGnP4  HITS 2025 - Today's Top Songs   \n",
      "4  5iwkYfnHAGMEFLiHFFGnP4  HITS 2025 - Today's Top Songs   \n",
      "\n",
      "                 track_id                               track_name  \\\n",
      "0  6qqrTXSdwiJaq8SO0X2lSe                                 Ordinary   \n",
      "1  4WFgvKVfEhb3IUAFGrutTR                              Love Me Not   \n",
      "2  05od2qm2MTSKCHxy1GBp5W                                 12 to 12   \n",
      "3  1CPZ5BxNNd0n0nF4Orb9JS                                   Golden   \n",
      "4  2yWlGEgEfPot0lv3OAjuG3  Just Keep Watching (From F1® The Movie)   \n",
      "\n",
      "                                              artist  \\\n",
      "0                                        Alex Warren   \n",
      "1                                        Ravyn Lenae   \n",
      "2                                              sombr   \n",
      "3  HUNTR/X, EJAE, AUDREY NUNA, REI AMI, KPop Demo...   \n",
      "4                           Tate McRae, F1 The Album   \n",
      "\n",
      "                                               album release_date  popularity  \\\n",
      "0                                           Ordinary   2025-02-07          92   \n",
      "1                                         Bird's Eye   2024-08-09          90   \n",
      "2                                  I Barely Know Her   2025-08-22          88   \n",
      "3  KPop Demon Hunters (Soundtrack from the Netfli...   2025-06-20         100   \n",
      "4            Just Keep Watching (From F1® The Movie)   2025-05-30          91   \n",
      "\n",
      "   duration_ms  explicit                                          track_url  \n",
      "0       186964     False  https://open.spotify.com/track/6qqrTXSdwiJaq8S...  \n",
      "1       213466     False  https://open.spotify.com/track/4WFgvKVfEhb3IUA...  \n",
      "2       242903     False  https://open.spotify.com/track/05od2qm2MTSKCHx...  \n",
      "3       194607     False  https://open.spotify.com/track/1CPZ5BxNNd0n0nF...  \n",
      "4       142550     False  https://open.spotify.com/track/2yWlGEgEfPot0lv...  \n",
      "\n",
      "📈 Dataset info:\n",
      "  • Columns: ['playlist_id', 'playlist_name', 'track_id', 'track_name', 'artist', 'album', 'release_date', 'popularity', 'duration_ms', 'explicit', 'track_url']\n",
      "  • Artists: 786 unique\n",
      "  • Albums: 947 unique\n"
     ]
    },
    {
     "name": "stderr",
     "output_type": "stream",
     "text": [
      "\r"
     ]
    }
   ],
   "source": [
    "import spotipy\n",
    "from spotipy.oauth2 import SpotifyClientCredentials\n",
    "import pandas as pd\n",
    "import os\n",
    "from tqdm import tqdm  # for progress bars\n",
    "\n",
    "# ----------------------------\n",
    "# CONFIGURATION\n",
    "# ----------------------------\n",
    "CLIENT_ID = \"0c136fb58a17412f94c81a35e109360d\"\n",
    "CLIENT_SECRET = \"0289c7b9332c43ef80fd34b806d9ce76\"\n",
    "\n",
    "OUTPUT_FILE = \"spotify_songs.csv\"\n",
    "\n",
    "# Mix of different playlist formats - all should work now\n",
    "playlists = [\n",
    "    \"37i9dQZF1DWXRqgorJj26U\",  # Rock Classics (if still available)\n",
    "    \"5iwkYfnHAGMEFLiHFFGnP4\",  # HITS 2025 - Today's Top Songs\n",
    "    \"0MjxRIyt08vQ0QPDE02Zj2\",  # Hits 2025\n",
    "    \"3Me7esQS0xZkSbW0XW7roB\",  # 2025 HITS 🔥🔥🔥\n",
    "    \"1YUVG3tWJL8bYRpNiRFd29\"\n",
    "    # You can add more playlists here\n",
    "]\n",
    "\n",
    "# ----------------------------\n",
    "# HELPER FUNCTION\n",
    "# ----------------------------\n",
    "def extract_playlist_id(playlist_input: str) -> str:\n",
    "    \"\"\"Extract playlist ID from URL, URI, or ID format.\"\"\"\n",
    "    if playlist_input.startswith(\"spotify:playlist:\"):\n",
    "        return playlist_input.split(\":\")[-1]\n",
    "    if \"open.spotify.com/playlist/\" in playlist_input:\n",
    "        return playlist_input.split(\"playlist/\")[-1].split(\"?\")[0]\n",
    "    return playlist_input  # Already an ID\n",
    "\n",
    "def get_playlist_info(sp, playlist_id):\n",
    "    \"\"\"Get basic playlist information.\"\"\"\n",
    "    try:\n",
    "        playlist = sp.playlist(playlist_id, fields=\"name,owner.display_name,public,tracks.total\")\n",
    "        return {\n",
    "            'name': playlist['name'],\n",
    "            'owner': playlist['owner']['display_name'],\n",
    "            'public': playlist['public'],\n",
    "            'total_tracks': playlist['tracks']['total']\n",
    "        }\n",
    "    except:\n",
    "        return None\n",
    "\n",
    "# ----------------------------\n",
    "# AUTHENTICATION\n",
    "# ----------------------------\n",
    "print(\"🔐 Authenticating with Spotify...\")\n",
    "try:\n",
    "    # Using ClientCredentials for public data access (no user login required)\n",
    "    client_credentials_manager = SpotifyClientCredentials(\n",
    "        client_id=CLIENT_ID,\n",
    "        client_secret=CLIENT_SECRET\n",
    "    )\n",
    "    sp = spotipy.Spotify(client_credentials_manager=client_credentials_manager)\n",
    "    print(\"✅ Successfully authenticated with Spotify!\")\n",
    "except Exception as e:\n",
    "    print(f\"❌ Authentication failed: {e}\")\n",
    "    exit(1)\n",
    "\n",
    "# ----------------------------\n",
    "# REMOVE OLD CSV (if exists)\n",
    "# ----------------------------\n",
    "if os.path.exists(OUTPUT_FILE):\n",
    "    os.remove(OUTPUT_FILE)\n",
    "    print(f\"🧹 Removed old database file '{OUTPUT_FILE}'\")\n",
    "\n",
    "# ----------------------------\n",
    "# FETCH SONGS\n",
    "# ----------------------------\n",
    "all_tracks = []\n",
    "successful_playlists = 0\n",
    "\n",
    "print(\"\\n🚀 Starting to fetch song data from Spotify playlists...\")\n",
    "\n",
    "for i, playlist in enumerate(playlists, 1):\n",
    "    try:\n",
    "        playlist_id = extract_playlist_id(playlist)\n",
    "        print(f\"\\n[{i}/{len(playlists)}] Processing playlist: {playlist_id}\")\n",
    "        \n",
    "        # Get playlist info first\n",
    "        playlist_info = get_playlist_info(sp, playlist_id)\n",
    "        if not playlist_info:\n",
    "            print(f\"  ❌ Could not access playlist {playlist_id}\")\n",
    "            continue\n",
    "            \n",
    "        if not playlist_info['public']:\n",
    "            print(f\"  ⚠️  Playlist '{playlist_info['name']}' is private, skipping...\")\n",
    "            continue\n",
    "            \n",
    "        print(f\"  📋 Playlist: '{playlist_info['name']}' by {playlist_info['owner']}\")\n",
    "        print(f\"  📊 Total tracks: {playlist_info['total_tracks']}\")\n",
    "\n",
    "        # Fetch tracks with pagination\n",
    "        results = sp.playlist_tracks(playlist_id, limit=100, offset=0)\n",
    "        tracks = results[\"items\"]\n",
    "\n",
    "        # Progress bar\n",
    "        pbar = tqdm(\n",
    "            total=playlist_info['total_tracks'], \n",
    "            desc=f\"  Fetching tracks\", \n",
    "            unit=\"track\",\n",
    "            leave=False\n",
    "        )\n",
    "        pbar.update(len(tracks))\n",
    "\n",
    "        # Handle pagination\n",
    "        page = 1\n",
    "        max_pages = 200  # Safety limit\n",
    "        while results[\"next\"] and page < max_pages:\n",
    "            try:\n",
    "                results = sp.next(results)\n",
    "                page += 1\n",
    "                new_tracks = results[\"items\"]\n",
    "                tracks.extend(new_tracks)\n",
    "                pbar.update(len(new_tracks))\n",
    "            except Exception as e:\n",
    "                print(f\"  ⚠️  Error fetching page {page}: {e}\")\n",
    "                break\n",
    "\n",
    "        pbar.close()\n",
    "\n",
    "        # Process tracks\n",
    "        playlist_tracks = []\n",
    "        for item in tracks:\n",
    "            track = item.get(\"track\")\n",
    "            if track and track.get(\"id\"):  # Ensure track exists and has ID\n",
    "                try:\n",
    "                    playlist_tracks.append({\n",
    "                        \"playlist_id\": playlist_id,\n",
    "                        \"playlist_name\": playlist_info['name'],\n",
    "                        \"track_id\": track[\"id\"],\n",
    "                        \"track_name\": track[\"name\"],\n",
    "                        \"artist\": \", \".join([artist[\"name\"] for artist in track[\"artists\"]]),\n",
    "                        \"album\": track[\"album\"][\"name\"],\n",
    "                        \"release_date\": track[\"album\"][\"release_date\"],\n",
    "                        \"popularity\": track.get(\"popularity\", 0),\n",
    "                        \"duration_ms\": track.get(\"duration_ms\", 0),\n",
    "                        \"explicit\": track.get(\"explicit\", False),\n",
    "                        \"track_url\": track[\"external_urls\"][\"spotify\"]\n",
    "                    })\n",
    "                except Exception as e:\n",
    "                    print(f\"  ⚠️  Error processing track: {e}\")\n",
    "                    continue\n",
    "\n",
    "        all_tracks.extend(playlist_tracks)\n",
    "        successful_playlists += 1\n",
    "        print(f\"  ✅ Successfully fetched {len(playlist_tracks)} tracks\")\n",
    "        print(f\"  📈 Running total: {len(all_tracks)} tracks\")\n",
    "\n",
    "    except Exception as e:\n",
    "        print(f\"  ❌ Could not process playlist {playlist}. Error: {e}\")\n",
    "\n",
    "print(f\"\\n📊 Summary:\")\n",
    "print(f\"  • Processed {successful_playlists}/{len(playlists)} playlists successfully\")\n",
    "print(f\"  • Total tracks fetched: {len(all_tracks)}\")\n",
    "\n",
    "# ----------------------------\n",
    "# SAVE TO CSV\n",
    "# ----------------------------\n",
    "if all_tracks:\n",
    "    # Create DataFrame and remove duplicates\n",
    "    df = pd.DataFrame(all_tracks)\n",
    "    original_count = len(df)\n",
    "    \n",
    "    # Remove duplicate tracks (same track_id)\n",
    "    df = df.drop_duplicates(subset=['track_id'], keep='first')\n",
    "    unique_count = len(df)\n",
    "    duplicates_removed = original_count - unique_count\n",
    "    \n",
    "    # Save to CSV\n",
    "    df.to_csv(OUTPUT_FILE, index=False, encoding=\"utf-8\")\n",
    "    \n",
    "    print(f\"\\n✅ Success!\")\n",
    "    print(f\"  • Removed {duplicates_removed} duplicate tracks\")\n",
    "    print(f\"  • Saved {unique_count} unique tracks to '{OUTPUT_FILE}'\")\n",
    "    print(f\"\\n📋 Dataset preview:\")\n",
    "    print(df.head())\n",
    "    print(f\"\\n📈 Dataset info:\")\n",
    "    print(f\"  • Columns: {list(df.columns)}\")\n",
    "    print(f\"  • Artists: {df['artist'].nunique()} unique\")\n",
    "    print(f\"  • Albums: {df['album'].nunique()} unique\")\n",
    "else:\n",
    "    print(\"\\n❌ No tracks were fetched.\")\n",
    "    print(\"💡 Troubleshooting tips:\")\n",
    "    print(\"  1. Check if your CLIENT_ID and CLIENT_SECRET are valid\")\n",
    "    print(\"  2. Try with different (public) playlist IDs\")\n",
    "    print(\"  3. Some playlists might be region-restricted\")"
   ]
  },
  {
   "cell_type": "code",
   "execution_count": null,
   "id": "5962eee1",
   "metadata": {},
   "outputs": [
    {
     "name": "stdout",
     "output_type": "stream",
     "text": [
      "🔐 Authenticating...\n",
      "✅ Authenticated as: Shashank\n",
      "\n",
      "🚀 Starting to fetch song data...\n",
      "\n",
      "-> Processing playlist: 5iwkYfnHAGMEFLiHFFGnP4\n"
     ]
    },
    {
     "name": "stderr",
     "output_type": "stream",
     "text": [
      "   Fetching audio features:   0%|          | 0/1 [00:00<?, ?it/s]HTTP Error for GET to https://api.spotify.com/v1/audio-features/?ids=6qqrTXSdwiJaq8SO0X2lSe,4WFgvKVfEhb3IUAFGrutTR,05od2qm2MTSKCHxy1GBp5W,1CPZ5BxNNd0n0nF4Orb9JS,2yWlGEgEfPot0lv3OAjuG3,7uivYk4Bf2j1wtHHLtB0Qr,3cZajhyr8LmtPfHZ9296tj,42VUCXerQ5qTr4Qp6PhKo4,5q9I5RmmrLC4U2mW2BnF3K,7qjZnBKE73H4Oxkopwulqe,2SsY5k7UWFqgye3PUMG3Oq,221eHga9f9Ne4f8D7WVgPT,5BZsQlgw21vDOAjoqkNgKb,4wJ5Qq0jBN4ajy7ouZIV1c,6wHpLMmp98aHcV8L1JFrj8,04emojnbYkrRmv5qtJcgVP,6vqyk3mbDBv3npTpctYoka,1IfGOnXoMBkiKC9xljlSfa,1WmBVbFmLt0w6zPP37TeCG,5H1sKFMzDeMtXwND3V6hRY,3nHuKdFJZm78CoeBnDcFKe,7so0lgd0zP2Sbgs2d7a1SZ,0InIeZW4P6VO7dUGRM4AKH,5ITV0zqzjOYfFWpW0xBmRa,6iOndD4OFo7GkaDypWQIou,2qPQcfUgizNDOIv1orkTAd,2CGNAOSuO1MEFCbBRgUzjd,4TwEdnSiTPDR1vg1QZ5K8W,6dOtVTDdiauQNBQEDOtlAB,4Q0qVhFQa7j6jRKzo3HDmP,0Ji9UonfwC90rbZ4IaQhOb,0TFTAtCYhp2tQ9KcJIZb55,5pobX21I8uZdHM8YOWItU7,3xkHsmpQCBMytMJNiDf3Ii,42UBPzRMh5yyz0EDPr6fr1,1zM8S2pnIclcdTmrfFnWtX,1qbmS6ep2hbBRaEZFpn7BX,0bxPRWprUVpQK0UFcddkrA,57GsLpRtEtrzcPGPop20rS,02BcXEH1zJYbXSabPtNlKf,1xOqGUkyxGQRdCvGpvWKmL,2DDo2QqElDO9PgOHeGtQiy,7B3BwNecBhKvNwSMOOl7Gk,2RdEC8Ff83WkX7kDVCHseE,4kCkgD1ITALBjzBwGsf6tW,6xV7Be6XEvkSnighmh2Tzj,6M1vkKMDQZoh1sbH4asNcF,6pDt1F76BKy3ywWg4t8wee,0DMJz677XfXiiruhIELu2e,3sK8wGT43QFpWrvNQsrQya,3siwsiaEoU4Kuuc9WKMUy5,1KZG1H1OCugGqIRmk1wF9m,1k2pQc5i348DCHwbn5KTdc,331l3xABO0HMr1Kkyh2LZq,5fZJQrFKWQLb7FpJXZ1g7K,1lbNgoJ5iMrMluCyhI4OQP,2PnlsTsOTLE5jnBnNe2K0A,17phhZDn6oGtzMe56NuWvj,6iYxkBHyMpsgVxUgfy5fSx,47Sa7pC00F7D5Z0i7HC5la with Params: {} returned 403 due to None\n",
      "   Fetching audio features:   0%|          | 0/1 [00:00<?, ?it/s]\n"
     ]
    },
    {
     "name": "stdout",
     "output_type": "stream",
     "text": [
      "   ❌ Could not process playlist 5iwkYfnHAGMEFLiHFFGnP4. Error: http status: 403, code: -1 - https://api.spotify.com/v1/audio-features/?ids=6qqrTXSdwiJaq8SO0X2lSe,4WFgvKVfEhb3IUAFGrutTR,05od2qm2MTSKCHxy1GBp5W,1CPZ5BxNNd0n0nF4Orb9JS,2yWlGEgEfPot0lv3OAjuG3,7uivYk4Bf2j1wtHHLtB0Qr,3cZajhyr8LmtPfHZ9296tj,42VUCXerQ5qTr4Qp6PhKo4,5q9I5RmmrLC4U2mW2BnF3K,7qjZnBKE73H4Oxkopwulqe,2SsY5k7UWFqgye3PUMG3Oq,221eHga9f9Ne4f8D7WVgPT,5BZsQlgw21vDOAjoqkNgKb,4wJ5Qq0jBN4ajy7ouZIV1c,6wHpLMmp98aHcV8L1JFrj8,04emojnbYkrRmv5qtJcgVP,6vqyk3mbDBv3npTpctYoka,1IfGOnXoMBkiKC9xljlSfa,1WmBVbFmLt0w6zPP37TeCG,5H1sKFMzDeMtXwND3V6hRY,3nHuKdFJZm78CoeBnDcFKe,7so0lgd0zP2Sbgs2d7a1SZ,0InIeZW4P6VO7dUGRM4AKH,5ITV0zqzjOYfFWpW0xBmRa,6iOndD4OFo7GkaDypWQIou,2qPQcfUgizNDOIv1orkTAd,2CGNAOSuO1MEFCbBRgUzjd,4TwEdnSiTPDR1vg1QZ5K8W,6dOtVTDdiauQNBQEDOtlAB,4Q0qVhFQa7j6jRKzo3HDmP,0Ji9UonfwC90rbZ4IaQhOb,0TFTAtCYhp2tQ9KcJIZb55,5pobX21I8uZdHM8YOWItU7,3xkHsmpQCBMytMJNiDf3Ii,42UBPzRMh5yyz0EDPr6fr1,1zM8S2pnIclcdTmrfFnWtX,1qbmS6ep2hbBRaEZFpn7BX,0bxPRWprUVpQK0UFcddkrA,57GsLpRtEtrzcPGPop20rS,02BcXEH1zJYbXSabPtNlKf,1xOqGUkyxGQRdCvGpvWKmL,2DDo2QqElDO9PgOHeGtQiy,7B3BwNecBhKvNwSMOOl7Gk,2RdEC8Ff83WkX7kDVCHseE,4kCkgD1ITALBjzBwGsf6tW,6xV7Be6XEvkSnighmh2Tzj,6M1vkKMDQZoh1sbH4asNcF,6pDt1F76BKy3ywWg4t8wee,0DMJz677XfXiiruhIELu2e,3sK8wGT43QFpWrvNQsrQya,3siwsiaEoU4Kuuc9WKMUy5,1KZG1H1OCugGqIRmk1wF9m,1k2pQc5i348DCHwbn5KTdc,331l3xABO0HMr1Kkyh2LZq,5fZJQrFKWQLb7FpJXZ1g7K,1lbNgoJ5iMrMluCyhI4OQP,2PnlsTsOTLE5jnBnNe2K0A,17phhZDn6oGtzMe56NuWvj,6iYxkBHyMpsgVxUgfy5fSx,47Sa7pC00F7D5Z0i7HC5la:\n",
      " None, reason: None\n",
      "\n",
      "-> Processing playlist: 0MjxRIyt08vQ0QPDE02Zj2\n"
     ]
    },
    {
     "name": "stderr",
     "output_type": "stream",
     "text": [
      "   Fetching audio features:   0%|          | 0/9 [00:00<?, ?it/s]HTTP Error for GET to https://api.spotify.com/v1/audio-features/?ids=6qqrTXSdwiJaq8SO0X2lSe,1CPZ5BxNNd0n0nF4Orb9JS,35ISBknsCeZQtq66xABI9g,0GRc3eGTg8HBdWLRGYgqIc,6j8OrKDQHxXakjA7KKbWzj,0FTmksd2dxiE5e3rWyJXs6,4oASO8jyg0Qh7cUeve1bEA,6wHpLMmp98aHcV8L1JFrj8,2yWlGEgEfPot0lv3OAjuG3,5vNRhkKd0yEAg8suGBpjeY,1musbempyJAw5gfSKZHXP9,5ITV0zqzjOYfFWpW0xBmRa,6rcuy6XqlB9bqvtIRDl25u,4Q0qVhFQa7j6jRKzo3HDmP,2GN2pbQi4Yz7Qp99Wbp2vZ,5SxahezRlC0saXbCALfB7c,4AajxCEwGEsmHmT4H1TwjY,1UNEuG9DYOWiikf00ayr52,2262bWmqomIaJXwCRHr13j,1We3jgIztlD2Tkb0yOoX4b,2sKHevALE8DKDkwEo04Pbh,5ejTcCJOozPqRPMs9gW3pN,5nPbKG04fhLkIAjcPFaZq7,6Ilomcr9iLplsgAvZjHkJP,78nx0HDJIFD5xDq2L5420Z,0QCIpQV3twfqo9kh0t8Zza,42UBPzRMh5yyz0EDPr6fr1,7ETIZFr7163zFcz3RxKk5O,3Qt9dFYxJLA4u2rlXafqrf,7zPfFxH8WxUUffU8rqB4kU,1xOqGUkyxGQRdCvGpvWKmL,1dPfUpXRn8U5Q1fgAnhvbe,6V7bxWg4mmuU4ILbYPQJvd,1GfJCWGLfdev016PSsrUO8,2MZeoO5my5Z2opiQHm150R,1WmBVbFmLt0w6zPP37TeCG,7ne4VBA60CxGM75vw0EYad,5ZLUm9eab8y3tqQ1OhQSHI,2FAZskT9yRjp2Oow9szJD8,1BJJbSX6muJVF2AK7uH1x4,1cXo8i9dgutdqjhjz3Zwqq,1v1cijv1qjMJ5o9OvMWACS,2eAU0Oij4NkduxThjzhCI6,3x3K1RP3Zfi2qeMR8kyrNO,1JjHQ4lfAjbDq7wmOmH9wM,3QaPy1KgI7nu9FJEQUgn6h,1Es7AUAhQvapIcoh3qMKDL,6R81LNxCNqY9c1TXCuyvXq,4MSj19TwYBLgDFj3ddEeco,69yw1KhYUuGwUbOImS0jju,4KbkHQWVpW5munyeFbHyfX,3cZajhyr8LmtPfHZ9296tj,6xLoWndBgNvlylHAWxiqxw,0dIb1x3ilFtfprAfbfOEKm,6YFNhYf7A33biVmMG1JSQf,2RdEC8Ff83WkX7kDVCHseE,0L1e4NytVRR42Ip0KPVgdv,1E7xmNFzqkkh1DMwBomBg3,7DFBKsaJieWr5DgWezzlOO,1CSAUEapYQQOD50ardFG0K,7K2DFO1NYMtBdNP6vNlhWI,0dN8k9rJg8uQnERTw5w5Vy,4zpNfuWJA3K4d9TS4qnOIB,4Ck0Q063lgaTtbMLozPViA,45J4avUb9Ni0bnETYaYFVJ,4JW5hM2X9F42rWsSx5E17f,5GQPBzoRBDxcAjwSSluQXD,6PTgSuFz9JqQ1o0jTYOuvX,3zadSXykCJFdmRKxsfOQ2h,1SdJK81uqfXNIhlZI9vjlg,1f6D8lQmjEHSwhGXcTnZc9,1prNhzt3DdgRoxKoALTEYo,3bB97PIqXf7WtkKeuYuXFS,5BZsQlgw21vDOAjoqkNgKb,6hkafjAcHMk1TtSF6w2wIx,4kbkYbhWNiSJraySknB4hD,1YRbAonLvmuUILvQso0gUM,4pZc4zC5lAuW7MYD0v5TjH,2QxviKpVdEXKDWs706MUZB,3nHuKdFJZm78CoeBnDcFKe,04emojnbYkrRmv5qtJcgVP,1N9SGRAf3N9phdOWak2A1p,142PiXzA84lmEw2RstFHFa,36w8f4Cl7JqTbFDamAdq8Q,6gBjUipB0ZxHd1BvwdJTDQ,0TwKov50GELgwuAW4I3oeN,5jtca751346RjMOjNh4M0P,61lNxSCj38lvmZjJZuhXSt,4495xO2HkmqoYIxQO2FvAH,541sN2qNfIlllGn9nGOQoC,2plbrEY59IikOBgBGLjaoe,3Vr3zh0r7ALn8VLqCiRR10,4TwEdnSiTPDR1vg1QZ5K8W,25NtKz5cq30ec81fhDM9rU,614QOxGBDRK2qx8fCWnQxE,5lsYXP02jd62YmG4iARPTK,6GOOcBV0wLoHrH5D9AWA32,5WGctLC3bvTwld9YdVG99n,5ceSLoV0tELtpnQzgnt5nm,2s2NJlQfNF77nQcQvb4sBk with Params: {} returned 403 due to None\n",
      "   Fetching audio features:   0%|          | 0/9 [00:00<?, ?it/s]\n"
     ]
    },
    {
     "name": "stdout",
     "output_type": "stream",
     "text": [
      "   ❌ Could not process playlist 0MjxRIyt08vQ0QPDE02Zj2. Error: http status: 403, code: -1 - https://api.spotify.com/v1/audio-features/?ids=6qqrTXSdwiJaq8SO0X2lSe,1CPZ5BxNNd0n0nF4Orb9JS,35ISBknsCeZQtq66xABI9g,0GRc3eGTg8HBdWLRGYgqIc,6j8OrKDQHxXakjA7KKbWzj,0FTmksd2dxiE5e3rWyJXs6,4oASO8jyg0Qh7cUeve1bEA,6wHpLMmp98aHcV8L1JFrj8,2yWlGEgEfPot0lv3OAjuG3,5vNRhkKd0yEAg8suGBpjeY,1musbempyJAw5gfSKZHXP9,5ITV0zqzjOYfFWpW0xBmRa,6rcuy6XqlB9bqvtIRDl25u,4Q0qVhFQa7j6jRKzo3HDmP,2GN2pbQi4Yz7Qp99Wbp2vZ,5SxahezRlC0saXbCALfB7c,4AajxCEwGEsmHmT4H1TwjY,1UNEuG9DYOWiikf00ayr52,2262bWmqomIaJXwCRHr13j,1We3jgIztlD2Tkb0yOoX4b,2sKHevALE8DKDkwEo04Pbh,5ejTcCJOozPqRPMs9gW3pN,5nPbKG04fhLkIAjcPFaZq7,6Ilomcr9iLplsgAvZjHkJP,78nx0HDJIFD5xDq2L5420Z,0QCIpQV3twfqo9kh0t8Zza,42UBPzRMh5yyz0EDPr6fr1,7ETIZFr7163zFcz3RxKk5O,3Qt9dFYxJLA4u2rlXafqrf,7zPfFxH8WxUUffU8rqB4kU,1xOqGUkyxGQRdCvGpvWKmL,1dPfUpXRn8U5Q1fgAnhvbe,6V7bxWg4mmuU4ILbYPQJvd,1GfJCWGLfdev016PSsrUO8,2MZeoO5my5Z2opiQHm150R,1WmBVbFmLt0w6zPP37TeCG,7ne4VBA60CxGM75vw0EYad,5ZLUm9eab8y3tqQ1OhQSHI,2FAZskT9yRjp2Oow9szJD8,1BJJbSX6muJVF2AK7uH1x4,1cXo8i9dgutdqjhjz3Zwqq,1v1cijv1qjMJ5o9OvMWACS,2eAU0Oij4NkduxThjzhCI6,3x3K1RP3Zfi2qeMR8kyrNO,1JjHQ4lfAjbDq7wmOmH9wM,3QaPy1KgI7nu9FJEQUgn6h,1Es7AUAhQvapIcoh3qMKDL,6R81LNxCNqY9c1TXCuyvXq,4MSj19TwYBLgDFj3ddEeco,69yw1KhYUuGwUbOImS0jju,4KbkHQWVpW5munyeFbHyfX,3cZajhyr8LmtPfHZ9296tj,6xLoWndBgNvlylHAWxiqxw,0dIb1x3ilFtfprAfbfOEKm,6YFNhYf7A33biVmMG1JSQf,2RdEC8Ff83WkX7kDVCHseE,0L1e4NytVRR42Ip0KPVgdv,1E7xmNFzqkkh1DMwBomBg3,7DFBKsaJieWr5DgWezzlOO,1CSAUEapYQQOD50ardFG0K,7K2DFO1NYMtBdNP6vNlhWI,0dN8k9rJg8uQnERTw5w5Vy,4zpNfuWJA3K4d9TS4qnOIB,4Ck0Q063lgaTtbMLozPViA,45J4avUb9Ni0bnETYaYFVJ,4JW5hM2X9F42rWsSx5E17f,5GQPBzoRBDxcAjwSSluQXD,6PTgSuFz9JqQ1o0jTYOuvX,3zadSXykCJFdmRKxsfOQ2h,1SdJK81uqfXNIhlZI9vjlg,1f6D8lQmjEHSwhGXcTnZc9,1prNhzt3DdgRoxKoALTEYo,3bB97PIqXf7WtkKeuYuXFS,5BZsQlgw21vDOAjoqkNgKb,6hkafjAcHMk1TtSF6w2wIx,4kbkYbhWNiSJraySknB4hD,1YRbAonLvmuUILvQso0gUM,4pZc4zC5lAuW7MYD0v5TjH,2QxviKpVdEXKDWs706MUZB,3nHuKdFJZm78CoeBnDcFKe,04emojnbYkrRmv5qtJcgVP,1N9SGRAf3N9phdOWak2A1p,142PiXzA84lmEw2RstFHFa,36w8f4Cl7JqTbFDamAdq8Q,6gBjUipB0ZxHd1BvwdJTDQ,0TwKov50GELgwuAW4I3oeN,5jtca751346RjMOjNh4M0P,61lNxSCj38lvmZjJZuhXSt,4495xO2HkmqoYIxQO2FvAH,541sN2qNfIlllGn9nGOQoC,2plbrEY59IikOBgBGLjaoe,3Vr3zh0r7ALn8VLqCiRR10,4TwEdnSiTPDR1vg1QZ5K8W,25NtKz5cq30ec81fhDM9rU,614QOxGBDRK2qx8fCWnQxE,5lsYXP02jd62YmG4iARPTK,6GOOcBV0wLoHrH5D9AWA32,5WGctLC3bvTwld9YdVG99n,5ceSLoV0tELtpnQzgnt5nm,2s2NJlQfNF77nQcQvb4sBk:\n",
      " None, reason: None\n",
      "\n",
      "-> Processing playlist: 3Me7esQS0xZkSbW0XW7roB\n"
     ]
    },
    {
     "name": "stderr",
     "output_type": "stream",
     "text": [
      "   Fetching audio features:   0%|          | 0/3 [00:00<?, ?it/s]HTTP Error for GET to https://api.spotify.com/v1/audio-features/?ids=2RkZ5LkEzeHGRsmDqKwmaJ,4WFgvKVfEhb3IUAFGrutTR,0FTmksd2dxiE5e3rWyJXs6,0je57Uq5eTk1wrPzn9sWbl,2plbrEY59IikOBgBGLjaoe,5BZsQlgw21vDOAjoqkNgKb,1WmBVbFmLt0w6zPP37TeCG,4Q0qVhFQa7j6jRKzo3HDmP,5vNRhkKd0yEAg8suGBpjeY,27xkOIER6uDLKALIelHylZ,3cZajhyr8LmtPfHZ9296tj,2SsY5k7UWFqgye3PUMG3Oq,0ILLfGp9z1pukpjifsfkxx,42VUCXerQ5qTr4Qp6PhKo4,2yWlGEgEfPot0lv3OAjuG3,1mEQbSq0PCNjyL6oMgHKFQ,2RdEC8Ff83WkX7kDVCHseE,56sExwBBmnDoRErXqghqrW,42UBPzRMh5yyz0EDPr6fr1,5ITV0zqzjOYfFWpW0xBmRa,1musbempyJAw5gfSKZHXP9,56n4ZSuQrwdLjfx4UUrMvP,05od2qm2MTSKCHxy1GBp5W,1CPZ5BxNNd0n0nF4Orb9JS,6tNQ70jh4OwmPGpYy6R2o9,50s7qiLWfzgpAsDqwfjS5D,3AWDeHLc88XogCaCnZQLVI,5ZLUm9eab8y3tqQ1OhQSHI,2CGNAOSuO1MEFCbBRgUzjd,7wMnlYWFlogro7Xv2pgmUj,7ne4VBA60CxGM75vw0EYad,4AajxCEwGEsmHmT4H1TwjY,6dOtVTDdiauQNBQEDOtlAB,2vMXaguuN4UKXfoRlxySuG,0fK7ie6XwGxQTIkpFoWkd1,0GRc3eGTg8HBdWLRGYgqIc,1qbmS6ep2hbBRaEZFpn7BX,5P9nLjjpKczdnhypJa5teO,35ISBknsCeZQtq66xABI9g,3sK8wGT43QFpWrvNQsrQya,5H1sKFMzDeMtXwND3V6hRY,35J5md68GWAKbQ1Ys94S10,6393yGahSJ9slVdOwSxOVR,6jbYpRPTEFl1HFKHk1IC0m,2jNyiavSywmA472t2m6ZBz,0lUXjVdwD90F7coLj0aabz,3H6xZgwRZx8McVUJzmMxWe,6wHpLMmp98aHcV8L1JFrj8,2qSkIjg1o9h3YT9RAgYN75,1bijeLU02xi68lCIB6BWL9,2zOmS55knKWSgScYPTNmGQ,221eHga9f9Ne4f8D7WVgPT,1UrwJzlNC2oaTlxj1OZmcu,0EinquS6uL1mPBOTQnKomo,1Cbl3Yq8rHo7hhDQmLQagU,04emojnbYkrRmv5qtJcgVP,5G2f63n7IPVPPjfNIGih7Q,0UsJ9rmUdyUkggAWRDRp3T,1UPB5rYJ0bzn6mNSoAHrZC,6AI3ezQ4o3HUoP6Dhudph3,0qmhTHMVxnXRmT5N92wTD9,009mbur8TQQ0kvfJMXoVas,4CPuDVC8jhhK6lA2DIt8Cf,2FQrifJ1N335Ljm3TjTVVf,3QaPy1KgI7nu9FJEQUgn6h,31Bc5ljAHxRYpuX7gERdgh,5Z0UnEtpLDQyYlWwgi8m9C,2OBzYCYMNsD6yhBZZSs0xg,17phhZDn6oGtzMe56NuWvj,3h112NNSQNJIIYO019rEZ2,4LRPiXqCikLlN15c3yImP7,0UYnhUfnUj5adChuAXvLUB,0WtM2NBVQNNJLh6scP13H8,5CVHKVnrnszHpRhblPPr1A,3U3hFkMr0Q90pD24EkE3Pr,5TFD2bmFKGhoCRbX61nXY5,5N3hjp1WNayUPZrA8kJmJP,6bRShWkISHLntvD63TTbGn,3be9ACTxtcL6Zm4vJRUiPG,0io16MKpbeDIdYzmGpQaES,2cf8mtws6a6Rf3hPaRRHvU,5uQ7de4EWjb3rkcFxyEOpu,5SxahezRlC0saXbCALfB7c,609ouDQ0nUbC68l3qeVNX4,2CspwnypzT7rcWI9RfsoSb,4xdBrk0nFZaP54vvZj0yx7,6XolXnd1meZ5clHVnBOdiz,6MzofobZt2dm0Kf1hTThFz,0OA00aPt3BV10qeMIs3meW,5J7Rga4BSHrDCTmUuGzSiG,7gaA3wERFkFkgivjwbSvkG,3rUGC1vUpkDG9CZFHMur1t,2nRYdAZpfHZ4TngoMZiRfr,1Es7AUAhQvapIcoh3qMKDL,3yDRcs0Y4pPzkvMbUfeF9H,4VWrZCmvviUwNrboVw6dM6,0yLdNVWF3Srea0uzk55zFn,3WOhcATHxK2SLNeP5W3v1v,7GzG576kRqJqBPe6Owokoy,2OzhQlSqBEmt7hmkYxfT6m with Params: {} returned 403 due to None\n",
      "   Fetching audio features:   0%|          | 0/3 [00:00<?, ?it/s]"
     ]
    },
    {
     "name": "stdout",
     "output_type": "stream",
     "text": [
      "   ❌ Could not process playlist 3Me7esQS0xZkSbW0XW7roB. Error: http status: 403, code: -1 - https://api.spotify.com/v1/audio-features/?ids=2RkZ5LkEzeHGRsmDqKwmaJ,4WFgvKVfEhb3IUAFGrutTR,0FTmksd2dxiE5e3rWyJXs6,0je57Uq5eTk1wrPzn9sWbl,2plbrEY59IikOBgBGLjaoe,5BZsQlgw21vDOAjoqkNgKb,1WmBVbFmLt0w6zPP37TeCG,4Q0qVhFQa7j6jRKzo3HDmP,5vNRhkKd0yEAg8suGBpjeY,27xkOIER6uDLKALIelHylZ,3cZajhyr8LmtPfHZ9296tj,2SsY5k7UWFqgye3PUMG3Oq,0ILLfGp9z1pukpjifsfkxx,42VUCXerQ5qTr4Qp6PhKo4,2yWlGEgEfPot0lv3OAjuG3,1mEQbSq0PCNjyL6oMgHKFQ,2RdEC8Ff83WkX7kDVCHseE,56sExwBBmnDoRErXqghqrW,42UBPzRMh5yyz0EDPr6fr1,5ITV0zqzjOYfFWpW0xBmRa,1musbempyJAw5gfSKZHXP9,56n4ZSuQrwdLjfx4UUrMvP,05od2qm2MTSKCHxy1GBp5W,1CPZ5BxNNd0n0nF4Orb9JS,6tNQ70jh4OwmPGpYy6R2o9,50s7qiLWfzgpAsDqwfjS5D,3AWDeHLc88XogCaCnZQLVI,5ZLUm9eab8y3tqQ1OhQSHI,2CGNAOSuO1MEFCbBRgUzjd,7wMnlYWFlogro7Xv2pgmUj,7ne4VBA60CxGM75vw0EYad,4AajxCEwGEsmHmT4H1TwjY,6dOtVTDdiauQNBQEDOtlAB,2vMXaguuN4UKXfoRlxySuG,0fK7ie6XwGxQTIkpFoWkd1,0GRc3eGTg8HBdWLRGYgqIc,1qbmS6ep2hbBRaEZFpn7BX,5P9nLjjpKczdnhypJa5teO,35ISBknsCeZQtq66xABI9g,3sK8wGT43QFpWrvNQsrQya,5H1sKFMzDeMtXwND3V6hRY,35J5md68GWAKbQ1Ys94S10,6393yGahSJ9slVdOwSxOVR,6jbYpRPTEFl1HFKHk1IC0m,2jNyiavSywmA472t2m6ZBz,0lUXjVdwD90F7coLj0aabz,3H6xZgwRZx8McVUJzmMxWe,6wHpLMmp98aHcV8L1JFrj8,2qSkIjg1o9h3YT9RAgYN75,1bijeLU02xi68lCIB6BWL9,2zOmS55knKWSgScYPTNmGQ,221eHga9f9Ne4f8D7WVgPT,1UrwJzlNC2oaTlxj1OZmcu,0EinquS6uL1mPBOTQnKomo,1Cbl3Yq8rHo7hhDQmLQagU,04emojnbYkrRmv5qtJcgVP,5G2f63n7IPVPPjfNIGih7Q,0UsJ9rmUdyUkggAWRDRp3T,1UPB5rYJ0bzn6mNSoAHrZC,6AI3ezQ4o3HUoP6Dhudph3,0qmhTHMVxnXRmT5N92wTD9,009mbur8TQQ0kvfJMXoVas,4CPuDVC8jhhK6lA2DIt8Cf,2FQrifJ1N335Ljm3TjTVVf,3QaPy1KgI7nu9FJEQUgn6h,31Bc5ljAHxRYpuX7gERdgh,5Z0UnEtpLDQyYlWwgi8m9C,2OBzYCYMNsD6yhBZZSs0xg,17phhZDn6oGtzMe56NuWvj,3h112NNSQNJIIYO019rEZ2,4LRPiXqCikLlN15c3yImP7,0UYnhUfnUj5adChuAXvLUB,0WtM2NBVQNNJLh6scP13H8,5CVHKVnrnszHpRhblPPr1A,3U3hFkMr0Q90pD24EkE3Pr,5TFD2bmFKGhoCRbX61nXY5,5N3hjp1WNayUPZrA8kJmJP,6bRShWkISHLntvD63TTbGn,3be9ACTxtcL6Zm4vJRUiPG,0io16MKpbeDIdYzmGpQaES,2cf8mtws6a6Rf3hPaRRHvU,5uQ7de4EWjb3rkcFxyEOpu,5SxahezRlC0saXbCALfB7c,609ouDQ0nUbC68l3qeVNX4,2CspwnypzT7rcWI9RfsoSb,4xdBrk0nFZaP54vvZj0yx7,6XolXnd1meZ5clHVnBOdiz,6MzofobZt2dm0Kf1hTThFz,0OA00aPt3BV10qeMIs3meW,5J7Rga4BSHrDCTmUuGzSiG,7gaA3wERFkFkgivjwbSvkG,3rUGC1vUpkDG9CZFHMur1t,2nRYdAZpfHZ4TngoMZiRfr,1Es7AUAhQvapIcoh3qMKDL,3yDRcs0Y4pPzkvMbUfeF9H,4VWrZCmvviUwNrboVw6dM6,0yLdNVWF3Srea0uzk55zFn,3WOhcATHxK2SLNeP5W3v1v,7GzG576kRqJqBPe6Owokoy,2OzhQlSqBEmt7hmkYxfT6m:\n",
      " None, reason: None\n",
      "\n",
      "❌ No tracks were fetched.\n"
     ]
    },
    {
     "name": "stderr",
     "output_type": "stream",
     "text": [
      "\n"
     ]
    }
   ],
   "source": []
  },
  {
   "cell_type": "code",
   "execution_count": 18,
   "id": "681d7767",
   "metadata": {},
   "outputs": [
    {
     "name": "stdout",
     "output_type": "stream",
     "text": [
      "\n",
      "🚀 Processing playlist: 37i9dQZF1DX4JAvHpjipBk\n"
     ]
    },
    {
     "name": "stderr",
     "output_type": "stream",
     "text": [
      "HTTP Error for GET to https://api.spotify.com/v1/playlists/37i9dQZF1DX4JAvHpjipBk/tracks with Params: {'limit': 100, 'offset': 0, 'fields': None, 'market': None, 'additional_types': 'track'} returned 404 due to Resource not found\n"
     ]
    },
    {
     "name": "stdout",
     "output_type": "stream",
     "text": [
      "❌ Failed to fetch playlist 37i9dQZF1DX4JAvHpjipBk: http status: 404, code: -1 - https://api.spotify.com/v1/playlists/37i9dQZF1DX4JAvHpjipBk/tracks?limit=100&offset=0&additional_types=track:\n",
      " Resource not found, reason: None\n",
      "\n",
      "🚀 Processing playlist: 37i9dQZF1DXcF6B6QPhFDv\n"
     ]
    },
    {
     "name": "stderr",
     "output_type": "stream",
     "text": [
      "HTTP Error for GET to https://api.spotify.com/v1/playlists/37i9dQZF1DXcF6B6QPhFDv/tracks with Params: {'limit': 100, 'offset': 0, 'fields': None, 'market': None, 'additional_types': 'track'} returned 404 due to Resource not found\n"
     ]
    },
    {
     "name": "stdout",
     "output_type": "stream",
     "text": [
      "❌ Failed to fetch playlist 37i9dQZF1DXcF6B6QPhFDv: http status: 404, code: -1 - https://api.spotify.com/v1/playlists/37i9dQZF1DXcF6B6QPhFDv/tracks?limit=100&offset=0&additional_types=track:\n",
      " Resource not found, reason: None\n",
      "\n",
      "❌ No tracks were fetched.\n"
     ]
    }
   ],
   "source": [
    "import spotipy\n",
    "from spotipy.oauth2 import SpotifyOAuth\n",
    "import pandas as pd\n",
    "from tqdm import tqdm\n",
    "\n",
    "# -----------------------\n",
    "# CONFIG\n",
    "# -----------------------\n",
    "CLIENT_ID = \"0c136fb58a17412f94c81a35e109360d\"\n",
    "CLIENT_SECRET = \"0289c7b9332c43ef80fd34b806d9ce76\"\n",
    "REDIRECT_URI = \"https://127.0.0.1:8888/callback\"\n",
    "SCOPE = \"\"\n",
    "\n",
    "PLAYLISTS = [\n",
    "    \"37i9dQZF1DX4JAvHpjipBk\",  # Rock Classics\n",
    "    \"37i9dQZF1DXcF6B6QPhFDv\"   # Hot Hits India\n",
    "]\n",
    "\n",
    "OUTPUT_FILE = \"spotify_tracks_with_features.csv\"\n",
    "\n",
    "# -----------------------\n",
    "# AUTHENTICATION\n",
    "# -----------------------\n",
    "sp = spotipy.Spotify(auth_manager=SpotifyOAuth(\n",
    "    client_id=CLIENT_ID,\n",
    "    client_secret=CLIENT_SECRET,\n",
    "    redirect_uri=REDIRECT_URI,\n",
    "    scope=SCOPE\n",
    "))\n",
    "\n",
    "# -----------------------\n",
    "# HELPER FUNCTION\n",
    "# -----------------------\n",
    "def get_playlist_tracks(playlist_id):\n",
    "    tracks = []\n",
    "    results = sp.playlist_tracks(playlist_id, limit=100)\n",
    "    tracks.extend(results['items'])\n",
    "    while results['next']:\n",
    "        results = sp.next(results)\n",
    "        tracks.extend(results['items'])\n",
    "    return tracks\n",
    "\n",
    "# -----------------------\n",
    "# MAIN LOOP\n",
    "# -----------------------\n",
    "all_tracks = []\n",
    "\n",
    "for playlist_id in PLAYLISTS:\n",
    "    print(f\"\\n🚀 Processing playlist: {playlist_id}\")\n",
    "    try:\n",
    "        tracks = get_playlist_tracks(playlist_id)\n",
    "        track_ids = [t['track']['id'] for t in tracks if t['track'] and t['track']['id']]\n",
    "\n",
    "        print(f\"🎵 Found {len(track_ids)} tracks. Fetching audio features...\")\n",
    "\n",
    "        # Spotify API allows 100 tracks per request\n",
    "        for i in tqdm(range(0, len(track_ids), 100)):\n",
    "            batch_ids = track_ids[i:i+100]\n",
    "            features = sp.audio_features(batch_ids)\n",
    "            for f in features:\n",
    "                if f:  # skip None\n",
    "                    track_info = next((t['track'] for t in tracks if t['track']['id'] == f['id']), {})\n",
    "                    all_tracks.append({\n",
    "                        \"track_name\": track_info.get('name'),\n",
    "                        \"artist\": \", \".join([a['name'] for a in track_info.get('artists', [])]),\n",
    "                        \"album\": track_info.get('album', {}).get('name'),\n",
    "                        \"release_date\": track_info.get('album', {}).get('release_date'),\n",
    "                        \"track_id\": f['id'],\n",
    "                        \"valence\": f['valence'],\n",
    "                        \"energy\": f['energy'],\n",
    "                        \"danceability\": f['danceability'],\n",
    "                        \"tempo\": f['tempo'],\n",
    "                        \"track_url\": track_info.get('external_urls', {}).get('spotify')\n",
    "                    })\n",
    "\n",
    "    except Exception as e:\n",
    "        print(f\"❌ Failed to fetch playlist {playlist_id}: {e}\")\n",
    "\n",
    "# -----------------------\n",
    "# SAVE CSV\n",
    "# -----------------------\n",
    "if all_tracks:\n",
    "    df = pd.DataFrame(all_tracks)\n",
    "    df.to_csv(OUTPUT_FILE, index=False)\n",
    "    print(f\"\\n✅ Saved {len(all_tracks)} tracks to '{OUTPUT_FILE}'\")\n",
    "else:\n",
    "    print(\"\\n❌ No tracks were fetched.\")\n"
   ]
  },
  {
   "cell_type": "code",
   "execution_count": 20,
   "id": "b299b0ab",
   "metadata": {},
   "outputs": [
    {
     "name": "stdout",
     "output_type": "stream",
     "text": [
      "🔐 Authenticating...\n",
      "✅ Authentication successful!\n",
      "\n",
      "🎵 Loading tracks from 'spotify_songs.csv'...\n",
      "   Found 1078 unique tracks to process.\n",
      "\n",
      "🚀 Fetching audio features in batches...\n"
     ]
    },
    {
     "name": "stderr",
     "output_type": "stream",
     "text": [
      "  0%|          | 0/11 [00:00<?, ?it/s]HTTP Error for GET to https://api.spotify.com/v1/audio-features/?ids=6qqrTXSdwiJaq8SO0X2lSe,4WFgvKVfEhb3IUAFGrutTR,05od2qm2MTSKCHxy1GBp5W,1CPZ5BxNNd0n0nF4Orb9JS,2yWlGEgEfPot0lv3OAjuG3,7uivYk4Bf2j1wtHHLtB0Qr,3cZajhyr8LmtPfHZ9296tj,42VUCXerQ5qTr4Qp6PhKo4,5q9I5RmmrLC4U2mW2BnF3K,7qjZnBKE73H4Oxkopwulqe,2SsY5k7UWFqgye3PUMG3Oq,221eHga9f9Ne4f8D7WVgPT,5BZsQlgw21vDOAjoqkNgKb,4wJ5Qq0jBN4ajy7ouZIV1c,6wHpLMmp98aHcV8L1JFrj8,04emojnbYkrRmv5qtJcgVP,6vqyk3mbDBv3npTpctYoka,1IfGOnXoMBkiKC9xljlSfa,1WmBVbFmLt0w6zPP37TeCG,5H1sKFMzDeMtXwND3V6hRY,3nHuKdFJZm78CoeBnDcFKe,7so0lgd0zP2Sbgs2d7a1SZ,0InIeZW4P6VO7dUGRM4AKH,5ITV0zqzjOYfFWpW0xBmRa,6iOndD4OFo7GkaDypWQIou,2qPQcfUgizNDOIv1orkTAd,2CGNAOSuO1MEFCbBRgUzjd,4TwEdnSiTPDR1vg1QZ5K8W,6dOtVTDdiauQNBQEDOtlAB,4Q0qVhFQa7j6jRKzo3HDmP,0Ji9UonfwC90rbZ4IaQhOb,0TFTAtCYhp2tQ9KcJIZb55,5pobX21I8uZdHM8YOWItU7,3xkHsmpQCBMytMJNiDf3Ii,42UBPzRMh5yyz0EDPr6fr1,1zM8S2pnIclcdTmrfFnWtX,1qbmS6ep2hbBRaEZFpn7BX,0bxPRWprUVpQK0UFcddkrA,57GsLpRtEtrzcPGPop20rS,02BcXEH1zJYbXSabPtNlKf,1xOqGUkyxGQRdCvGpvWKmL,2DDo2QqElDO9PgOHeGtQiy,7B3BwNecBhKvNwSMOOl7Gk,2RdEC8Ff83WkX7kDVCHseE,4kCkgD1ITALBjzBwGsf6tW,6xV7Be6XEvkSnighmh2Tzj,6M1vkKMDQZoh1sbH4asNcF,6pDt1F76BKy3ywWg4t8wee,0DMJz677XfXiiruhIELu2e,3sK8wGT43QFpWrvNQsrQya,3siwsiaEoU4Kuuc9WKMUy5,1KZG1H1OCugGqIRmk1wF9m,1k2pQc5i348DCHwbn5KTdc,331l3xABO0HMr1Kkyh2LZq,5fZJQrFKWQLb7FpJXZ1g7K,1lbNgoJ5iMrMluCyhI4OQP,2PnlsTsOTLE5jnBnNe2K0A,17phhZDn6oGtzMe56NuWvj,6iYxkBHyMpsgVxUgfy5fSx,47Sa7pC00F7D5Z0i7HC5la,35ISBknsCeZQtq66xABI9g,0GRc3eGTg8HBdWLRGYgqIc,6j8OrKDQHxXakjA7KKbWzj,0FTmksd2dxiE5e3rWyJXs6,4oASO8jyg0Qh7cUeve1bEA,5vNRhkKd0yEAg8suGBpjeY,1musbempyJAw5gfSKZHXP9,6rcuy6XqlB9bqvtIRDl25u,2GN2pbQi4Yz7Qp99Wbp2vZ,5SxahezRlC0saXbCALfB7c,4AajxCEwGEsmHmT4H1TwjY,1UNEuG9DYOWiikf00ayr52,2262bWmqomIaJXwCRHr13j,1We3jgIztlD2Tkb0yOoX4b,2sKHevALE8DKDkwEo04Pbh,5ejTcCJOozPqRPMs9gW3pN,5nPbKG04fhLkIAjcPFaZq7,6Ilomcr9iLplsgAvZjHkJP,78nx0HDJIFD5xDq2L5420Z,0QCIpQV3twfqo9kh0t8Zza,7ETIZFr7163zFcz3RxKk5O,3Qt9dFYxJLA4u2rlXafqrf,7zPfFxH8WxUUffU8rqB4kU,1dPfUpXRn8U5Q1fgAnhvbe,6V7bxWg4mmuU4ILbYPQJvd,1GfJCWGLfdev016PSsrUO8,2MZeoO5my5Z2opiQHm150R,7ne4VBA60CxGM75vw0EYad,5ZLUm9eab8y3tqQ1OhQSHI,2FAZskT9yRjp2Oow9szJD8,1BJJbSX6muJVF2AK7uH1x4,1cXo8i9dgutdqjhjz3Zwqq,1v1cijv1qjMJ5o9OvMWACS,2eAU0Oij4NkduxThjzhCI6,3x3K1RP3Zfi2qeMR8kyrNO,1JjHQ4lfAjbDq7wmOmH9wM,3QaPy1KgI7nu9FJEQUgn6h,1Es7AUAhQvapIcoh3qMKDL,6R81LNxCNqY9c1TXCuyvXq,4MSj19TwYBLgDFj3ddEeco with Params: {} returned 403 due to None\n",
      "  9%|▉         | 1/11 [00:00<00:03,  2.73it/s]HTTP Error for GET to https://api.spotify.com/v1/audio-features/?ids=69yw1KhYUuGwUbOImS0jju,4KbkHQWVpW5munyeFbHyfX,6xLoWndBgNvlylHAWxiqxw,0dIb1x3ilFtfprAfbfOEKm,6YFNhYf7A33biVmMG1JSQf,0L1e4NytVRR42Ip0KPVgdv,1E7xmNFzqkkh1DMwBomBg3,7DFBKsaJieWr5DgWezzlOO,1CSAUEapYQQOD50ardFG0K,7K2DFO1NYMtBdNP6vNlhWI,0dN8k9rJg8uQnERTw5w5Vy,4zpNfuWJA3K4d9TS4qnOIB,4Ck0Q063lgaTtbMLozPViA,45J4avUb9Ni0bnETYaYFVJ,4JW5hM2X9F42rWsSx5E17f,5GQPBzoRBDxcAjwSSluQXD,6PTgSuFz9JqQ1o0jTYOuvX,3zadSXykCJFdmRKxsfOQ2h,1SdJK81uqfXNIhlZI9vjlg,1f6D8lQmjEHSwhGXcTnZc9,1prNhzt3DdgRoxKoALTEYo,3bB97PIqXf7WtkKeuYuXFS,6hkafjAcHMk1TtSF6w2wIx,4kbkYbhWNiSJraySknB4hD,1YRbAonLvmuUILvQso0gUM,4pZc4zC5lAuW7MYD0v5TjH,2QxviKpVdEXKDWs706MUZB,1N9SGRAf3N9phdOWak2A1p,142PiXzA84lmEw2RstFHFa,36w8f4Cl7JqTbFDamAdq8Q,6gBjUipB0ZxHd1BvwdJTDQ,0TwKov50GELgwuAW4I3oeN,5jtca751346RjMOjNh4M0P,61lNxSCj38lvmZjJZuhXSt,4495xO2HkmqoYIxQO2FvAH,541sN2qNfIlllGn9nGOQoC,2plbrEY59IikOBgBGLjaoe,3Vr3zh0r7ALn8VLqCiRR10,25NtKz5cq30ec81fhDM9rU,614QOxGBDRK2qx8fCWnQxE,5lsYXP02jd62YmG4iARPTK,6GOOcBV0wLoHrH5D9AWA32,5WGctLC3bvTwld9YdVG99n,5ceSLoV0tELtpnQzgnt5nm,2s2NJlQfNF77nQcQvb4sBk,2jNyiavSywmA472t2m6ZBz,2FFPJq44xTco95jn7KpZ82,0KHSvFopZcVxNuAB7oQPDv,3RJqGQaU5C6olAtsaO7hjc,5UCcH62PMCio1kiV14zcEU,2uj2UZwhooohVKQREM7Wx8,1LbccDWO37QQUaRvoI2LjV,2wvUmObLQbxClXFsuhw8Ns,3U3hFkMr0Q90pD24EkE3Pr,7bkUa9kDFGxgCC7d36dzFI,6AI3ezQ4o3HUoP6Dhudph3,4il87YHqSV9UqbBkXM7z7m,7yNQ5oPcuCC4wTqTcMRIrE,0f6pPvxwkvBFaIpfhAQHgt,1UPB5rYJ0bzn6mNSoAHrZC,2xAHKs8W4lcOLweTCAPUbF,07JJ7J8JhEztiEcczioBws,0fK7ie6XwGxQTIkpFoWkd1,2lTm559tuIvatlT1u0JYG2,2xlCVJw334z27pGN8P7dhc,5K1IDBdLzxEb6LYXsRyR6e,6xZCDUaY4XzlhCSHKSW7rf,2NtP0dLpEhB6VVfMJuo9ib,5NS5o1w6a8blYJRjVJSOJI,3bg2qahpZmsg5wV2EMPXIk,3o7jpoacI4FX1SlSdsOT2g,2rvd6akG8qEtBNUvQpN7iY,5Yq1yDwsCuPBgnAn4h7tAe,4CPuDVC8jhhK6lA2DIt8Cf,7qkjnUILqzn2GjkZfRcH7Z,1eRsYW80thFTfA7QP8vRBK,7MivXlOJSElWcNPSRWMpkc,2kQ9AUWiggYieryKrKMe71,3cqnYYfKRdtfk8SOxG3YTH,6a8KhlDiDzF6Jr5Vkru8Gz,0b0Dz0Gi86SVdBxYeiQcCP,5J40E1eRcEKaN8xl3Ba0D5,3OSFudZwfQ4QecFhoabmP7,2dQZBkS0imJIezf1C7Dl73,6t1pBY6VYjNM9SJEBieyJw,0Lql4L7NyAKnZHBUKYVI26,2jCvsX9ChvqUOtRb2PdcUW,0b9RNAzGtDRRMQS1cF9HXT,36LIazapFJTh8aaWhqPYc9,6ctXNrMXw3r6hgzGDhcG9f,181yGUB8xEh4LfK8KhC4Wa,6kx16R0LMAyoXDvGqddZFy,2jtXSItnfIq59qTSddUlxN,3kAXRmMpVq8uMLX5HCpTYO,79WmVVG6KbCecp45eyhbfX,03y6MsaseYEO7DfwqsgcAI,62CwvU7KUlvObmiYCMaWSA,6fUGRSnO5Tx61EHlY0Ktwo,2qRMnItMLesizxbPqIwcSm,6f5naz4RZs9v5TezinPsHi with Params: {} returned 403 due to None\n",
      " 18%|█▊        | 2/11 [00:00<00:01,  4.61it/s]"
     ]
    },
    {
     "name": "stdout",
     "output_type": "stream",
     "text": [
      "   ⚠️ Could not fetch batch 1. Error: http status: 403, code: -1 - https://api.spotify.com/v1/audio-features/?ids=6qqrTXSdwiJaq8SO0X2lSe,4WFgvKVfEhb3IUAFGrutTR,05od2qm2MTSKCHxy1GBp5W,1CPZ5BxNNd0n0nF4Orb9JS,2yWlGEgEfPot0lv3OAjuG3,7uivYk4Bf2j1wtHHLtB0Qr,3cZajhyr8LmtPfHZ9296tj,42VUCXerQ5qTr4Qp6PhKo4,5q9I5RmmrLC4U2mW2BnF3K,7qjZnBKE73H4Oxkopwulqe,2SsY5k7UWFqgye3PUMG3Oq,221eHga9f9Ne4f8D7WVgPT,5BZsQlgw21vDOAjoqkNgKb,4wJ5Qq0jBN4ajy7ouZIV1c,6wHpLMmp98aHcV8L1JFrj8,04emojnbYkrRmv5qtJcgVP,6vqyk3mbDBv3npTpctYoka,1IfGOnXoMBkiKC9xljlSfa,1WmBVbFmLt0w6zPP37TeCG,5H1sKFMzDeMtXwND3V6hRY,3nHuKdFJZm78CoeBnDcFKe,7so0lgd0zP2Sbgs2d7a1SZ,0InIeZW4P6VO7dUGRM4AKH,5ITV0zqzjOYfFWpW0xBmRa,6iOndD4OFo7GkaDypWQIou,2qPQcfUgizNDOIv1orkTAd,2CGNAOSuO1MEFCbBRgUzjd,4TwEdnSiTPDR1vg1QZ5K8W,6dOtVTDdiauQNBQEDOtlAB,4Q0qVhFQa7j6jRKzo3HDmP,0Ji9UonfwC90rbZ4IaQhOb,0TFTAtCYhp2tQ9KcJIZb55,5pobX21I8uZdHM8YOWItU7,3xkHsmpQCBMytMJNiDf3Ii,42UBPzRMh5yyz0EDPr6fr1,1zM8S2pnIclcdTmrfFnWtX,1qbmS6ep2hbBRaEZFpn7BX,0bxPRWprUVpQK0UFcddkrA,57GsLpRtEtrzcPGPop20rS,02BcXEH1zJYbXSabPtNlKf,1xOqGUkyxGQRdCvGpvWKmL,2DDo2QqElDO9PgOHeGtQiy,7B3BwNecBhKvNwSMOOl7Gk,2RdEC8Ff83WkX7kDVCHseE,4kCkgD1ITALBjzBwGsf6tW,6xV7Be6XEvkSnighmh2Tzj,6M1vkKMDQZoh1sbH4asNcF,6pDt1F76BKy3ywWg4t8wee,0DMJz677XfXiiruhIELu2e,3sK8wGT43QFpWrvNQsrQya,3siwsiaEoU4Kuuc9WKMUy5,1KZG1H1OCugGqIRmk1wF9m,1k2pQc5i348DCHwbn5KTdc,331l3xABO0HMr1Kkyh2LZq,5fZJQrFKWQLb7FpJXZ1g7K,1lbNgoJ5iMrMluCyhI4OQP,2PnlsTsOTLE5jnBnNe2K0A,17phhZDn6oGtzMe56NuWvj,6iYxkBHyMpsgVxUgfy5fSx,47Sa7pC00F7D5Z0i7HC5la,35ISBknsCeZQtq66xABI9g,0GRc3eGTg8HBdWLRGYgqIc,6j8OrKDQHxXakjA7KKbWzj,0FTmksd2dxiE5e3rWyJXs6,4oASO8jyg0Qh7cUeve1bEA,5vNRhkKd0yEAg8suGBpjeY,1musbempyJAw5gfSKZHXP9,6rcuy6XqlB9bqvtIRDl25u,2GN2pbQi4Yz7Qp99Wbp2vZ,5SxahezRlC0saXbCALfB7c,4AajxCEwGEsmHmT4H1TwjY,1UNEuG9DYOWiikf00ayr52,2262bWmqomIaJXwCRHr13j,1We3jgIztlD2Tkb0yOoX4b,2sKHevALE8DKDkwEo04Pbh,5ejTcCJOozPqRPMs9gW3pN,5nPbKG04fhLkIAjcPFaZq7,6Ilomcr9iLplsgAvZjHkJP,78nx0HDJIFD5xDq2L5420Z,0QCIpQV3twfqo9kh0t8Zza,7ETIZFr7163zFcz3RxKk5O,3Qt9dFYxJLA4u2rlXafqrf,7zPfFxH8WxUUffU8rqB4kU,1dPfUpXRn8U5Q1fgAnhvbe,6V7bxWg4mmuU4ILbYPQJvd,1GfJCWGLfdev016PSsrUO8,2MZeoO5my5Z2opiQHm150R,7ne4VBA60CxGM75vw0EYad,5ZLUm9eab8y3tqQ1OhQSHI,2FAZskT9yRjp2Oow9szJD8,1BJJbSX6muJVF2AK7uH1x4,1cXo8i9dgutdqjhjz3Zwqq,1v1cijv1qjMJ5o9OvMWACS,2eAU0Oij4NkduxThjzhCI6,3x3K1RP3Zfi2qeMR8kyrNO,1JjHQ4lfAjbDq7wmOmH9wM,3QaPy1KgI7nu9FJEQUgn6h,1Es7AUAhQvapIcoh3qMKDL,6R81LNxCNqY9c1TXCuyvXq,4MSj19TwYBLgDFj3ddEeco:\n",
      " None, reason: None\n",
      "   ⚠️ Could not fetch batch 2. Error: http status: 403, code: -1 - https://api.spotify.com/v1/audio-features/?ids=69yw1KhYUuGwUbOImS0jju,4KbkHQWVpW5munyeFbHyfX,6xLoWndBgNvlylHAWxiqxw,0dIb1x3ilFtfprAfbfOEKm,6YFNhYf7A33biVmMG1JSQf,0L1e4NytVRR42Ip0KPVgdv,1E7xmNFzqkkh1DMwBomBg3,7DFBKsaJieWr5DgWezzlOO,1CSAUEapYQQOD50ardFG0K,7K2DFO1NYMtBdNP6vNlhWI,0dN8k9rJg8uQnERTw5w5Vy,4zpNfuWJA3K4d9TS4qnOIB,4Ck0Q063lgaTtbMLozPViA,45J4avUb9Ni0bnETYaYFVJ,4JW5hM2X9F42rWsSx5E17f,5GQPBzoRBDxcAjwSSluQXD,6PTgSuFz9JqQ1o0jTYOuvX,3zadSXykCJFdmRKxsfOQ2h,1SdJK81uqfXNIhlZI9vjlg,1f6D8lQmjEHSwhGXcTnZc9,1prNhzt3DdgRoxKoALTEYo,3bB97PIqXf7WtkKeuYuXFS,6hkafjAcHMk1TtSF6w2wIx,4kbkYbhWNiSJraySknB4hD,1YRbAonLvmuUILvQso0gUM,4pZc4zC5lAuW7MYD0v5TjH,2QxviKpVdEXKDWs706MUZB,1N9SGRAf3N9phdOWak2A1p,142PiXzA84lmEw2RstFHFa,36w8f4Cl7JqTbFDamAdq8Q,6gBjUipB0ZxHd1BvwdJTDQ,0TwKov50GELgwuAW4I3oeN,5jtca751346RjMOjNh4M0P,61lNxSCj38lvmZjJZuhXSt,4495xO2HkmqoYIxQO2FvAH,541sN2qNfIlllGn9nGOQoC,2plbrEY59IikOBgBGLjaoe,3Vr3zh0r7ALn8VLqCiRR10,25NtKz5cq30ec81fhDM9rU,614QOxGBDRK2qx8fCWnQxE,5lsYXP02jd62YmG4iARPTK,6GOOcBV0wLoHrH5D9AWA32,5WGctLC3bvTwld9YdVG99n,5ceSLoV0tELtpnQzgnt5nm,2s2NJlQfNF77nQcQvb4sBk,2jNyiavSywmA472t2m6ZBz,2FFPJq44xTco95jn7KpZ82,0KHSvFopZcVxNuAB7oQPDv,3RJqGQaU5C6olAtsaO7hjc,5UCcH62PMCio1kiV14zcEU,2uj2UZwhooohVKQREM7Wx8,1LbccDWO37QQUaRvoI2LjV,2wvUmObLQbxClXFsuhw8Ns,3U3hFkMr0Q90pD24EkE3Pr,7bkUa9kDFGxgCC7d36dzFI,6AI3ezQ4o3HUoP6Dhudph3,4il87YHqSV9UqbBkXM7z7m,7yNQ5oPcuCC4wTqTcMRIrE,0f6pPvxwkvBFaIpfhAQHgt,1UPB5rYJ0bzn6mNSoAHrZC,2xAHKs8W4lcOLweTCAPUbF,07JJ7J8JhEztiEcczioBws,0fK7ie6XwGxQTIkpFoWkd1,2lTm559tuIvatlT1u0JYG2,2xlCVJw334z27pGN8P7dhc,5K1IDBdLzxEb6LYXsRyR6e,6xZCDUaY4XzlhCSHKSW7rf,2NtP0dLpEhB6VVfMJuo9ib,5NS5o1w6a8blYJRjVJSOJI,3bg2qahpZmsg5wV2EMPXIk,3o7jpoacI4FX1SlSdsOT2g,2rvd6akG8qEtBNUvQpN7iY,5Yq1yDwsCuPBgnAn4h7tAe,4CPuDVC8jhhK6lA2DIt8Cf,7qkjnUILqzn2GjkZfRcH7Z,1eRsYW80thFTfA7QP8vRBK,7MivXlOJSElWcNPSRWMpkc,2kQ9AUWiggYieryKrKMe71,3cqnYYfKRdtfk8SOxG3YTH,6a8KhlDiDzF6Jr5Vkru8Gz,0b0Dz0Gi86SVdBxYeiQcCP,5J40E1eRcEKaN8xl3Ba0D5,3OSFudZwfQ4QecFhoabmP7,2dQZBkS0imJIezf1C7Dl73,6t1pBY6VYjNM9SJEBieyJw,0Lql4L7NyAKnZHBUKYVI26,2jCvsX9ChvqUOtRb2PdcUW,0b9RNAzGtDRRMQS1cF9HXT,36LIazapFJTh8aaWhqPYc9,6ctXNrMXw3r6hgzGDhcG9f,181yGUB8xEh4LfK8KhC4Wa,6kx16R0LMAyoXDvGqddZFy,2jtXSItnfIq59qTSddUlxN,3kAXRmMpVq8uMLX5HCpTYO,79WmVVG6KbCecp45eyhbfX,03y6MsaseYEO7DfwqsgcAI,62CwvU7KUlvObmiYCMaWSA,6fUGRSnO5Tx61EHlY0Ktwo,2qRMnItMLesizxbPqIwcSm,6f5naz4RZs9v5TezinPsHi:\n",
      " None, reason: None\n"
     ]
    },
    {
     "name": "stderr",
     "output_type": "stream",
     "text": [
      "HTTP Error for GET to https://api.spotify.com/v1/audio-features/?ids=75n9WHWZAzhB59xSjIHly4,2LwsunYgfRoqyIsNtgOCQx,3be9ACTxtcL6Zm4vJRUiPG,23H67W1NWkB4DOVVT8QOfV,5VfPYI5rj8GtQ2qChKYwMA,4lnLVhGxv1YnJEJIComb9x,4qR6ZdTuHGeXdWcKJB7sUA,7cMhicmOIwfJlWURl90AOc,5JLbgRkto4OrrkWgAHcJZT,5G2f63n7IPVPPjfNIGih7Q,726SEjbF3ToEbYbn43gnxl,69GEK9C8nKwiGLMv2NbpiG,2VyvDGdcVY04cNYou9MFVX,1T2zLWVcr4nXMrMnzyHUVl,3TPKsQTu9jZyzQJiax5rLA,39AfsBXaRa8JZhl46bKGGN,6jbYpRPTEFl1HFKHk1IC0m,3aSWXU6owkZeVhh94XxEWO,64f3yNXsi2Vk76odcHCOnw,3JG1uFc40wfyrqaWC7iv0e,4r6c2ClnuYLwNv4lEM7XlW,3ovTEUMYEoiT8ikEMVXBmS,7tI8dRuH2Yc6RuoTjxo4dU,7qQE1QwOsWHtTP08hw0y7u,6WatFBLVB0x077xWeoVc2k,51rfRCiUSvxXlCSCfIztBy,5is9ECympHEpAyTw22IDC5,39glDGcpBhLVMSsQhvtqHR,47KhhDku9RLDsWIJjYaXDs,20Y4EAmSXru3foatDg4OqN,0ngL9248WWfByTMRrZwUyz,19RybK6XDbAVpcdxSbZL1o,1bJRd2ey6ER7neSxZwYdAG,3WOhcATHxK2SLNeP5W3v1v,5496lks6V3fh1mZAB6IAap,2uqYupMHANxnwgeiXTZXzd,7MX0wxRiKE9c7dmiLV3NrX,0WbMK4wrZ1wFSty9F7FCgu,74KNUsROKQpivX8RHHwwr9,74lOK0Z3WKvTpK8W8Srj1d,3MZSuu8bD15Ha7LtRWyMQg,2z9FUHRkbkV4BObNzbHsFU,1Wi1XpdZzGVIdRTzlTrIEF,52A0oY4u5ufxrHC85JGf4x,47UCIHMC5NtybfvIEZBD4E,5wbg8kepMFoMzHOEuxiI0q,7K1BLb6MpvKuGEPpHw35mO,5huDOE63jdNZTiBODndFc1,1TcF5F10EN17vraisG1gQv,3NxB1jubUWY6zit9rOk8ZC,4arNFfHtD5FPYcpUUiUOM1,6LsWeh6tZFhcoBOkp0LGMz,2qYbtIf8dRkBkKIcZVGFDq,2byoNXF9Y6qhIGBq33ATEm,1ZAY0JeV4APCcfvRkwTWEH,12OXyuPmhiyC2MYkREEAb6,4Beh3N36Rm4G42GZjdC5Jy,1f18HzFpegqvH4ibGJyeMJ,3PpIWOUaPwDxu0ysEaFfAr,1UHS8Rf6h5Ar3CDWRd3wjF,3hV1IkFNIDdPciUFbOL4i6,1cZ3mzkuWrAP1uXSWekuLD,7bywjHOc0wSjGGbj04XbVi,5o0osRx8kYJTOqlOSggr9Z,2ngt7XvZ6ypAnyeFI7SZoK,4luohviQijMNU3yWu8xUMr,3MJ6lFNV12FSHAOzTzkwxz,5UHepEU0zMnz5sx1V9idJ5,4iyCORYRUEVoGZ8aU0DN7F,6ICGEHHvGJ9l4I68zuiyXB,4tOCLn5F0GHaPl4p9RPQAb,4iD4W5c2bpkLRoFbzUIuR2,4uiV0mq0L4bRK9go2Muck8,483U0QATlToljk5Kb35RAM,2OlFA7WMfBtr1JvONddJaI,16qhKHGz2mDlFrxvNLYeHW,4ZO4HvFADvujrrEidSatEC,0pSwhT654HC2knBvjn5f89,7mdJAkMBPkKYOLxcVPDqa0,3M0lSi5WW79CXQamgSBIjx,7JMkjelaEgUOdV7926uzGi,2tKTgFfzIdGrByiAYjNXR1,0fvFSGvEAPDDMfweKvDJVa,2E53s8cIrRuty1aZdAUqvQ,05ayHD9SFkfqhVUOUxBOyv,3wPPWcVuinAU7dXcJXtCID,5M2lX0ZAYSAzCs1xPPi9BX,5rrwj9g1c4kwnPSnsXP7g3,57DTKgkc3CjkUxg0urNl1u,6nrSo5ZWhsai0oeX257rRF,0HHKGXT6NQ83tUbVI31O1H,72fcuveJcHQ61u25WHQhjw,5M1n6xeBtHTgg50ztjGgRw,177wfMc2GyarTDKEAkdlY8,5yZf2P5nOJ5rRe2lMpfocB,5IoPnNiYAOvHHJpz13wzRL,23gjnzrBdrhmEiN49pFY4k,18hYrQJdI1Pwfdtcplh0Rt,6OC87jHRiovNPEUrgaqFSu,5UpdcedkGcuishA7jlnH8W with Params: {} returned 403 due to None\n",
      " 27%|██▋       | 3/11 [00:00<00:01,  5.89it/s]HTTP Error for GET to https://api.spotify.com/v1/audio-features/?ids=1MTCiRbvPK93YY6LNIeEbc,7abZdMxSDfDDf7HKB8Ae8r,3FjK86616FbluOfTxNK2gY,7hWESP9salkKYucipe5W99,5xHgo5JN0wfsV41HnRaos5,398rCeBrqZr360MpS6EXE9,2Bi7IhhjS7ZgzSe7FMaHs1,41KX8n4s243nGoFoqEjVac,15a30YqNPApO8OS0RpqNND,158aKdyaVs7HS3OfDZHANh,3gJAFFELdZyIM8tiwLAikg,0yKN9B3jYONUyvqrGkNUPX,3JhpsFR2yZhprzqXuzwGqj,3hcivoswCVR8LZkHR8MYA5,114I7yDc6X70Dq8labTqw8,7KPcippmg9MvPzb3dzNpQW,0Tqn5Th0wk55eLdga96vZM,3AWDeHLc88XogCaCnZQLVI,0JsQwqykPtt03YewNbPMr5,4DK8lTWgFCZRcErLgHQXWl,107O9gvmL7ClYS5sLx5T0U,2qD1IkLXpJwDndJEEc16XN,1gP0tMe6i0BlKtmYEoVp2i,6M5JL2JSOjLIZQa0Q5enm9,2g3gACnBVsYOeLs1u5BYNJ,6p01TrnodGu9pCPlIJN7aK,0xSjAuPhm9tJXX2nRt2Avv,1s6cXY4Fx1GcAMEDHuU0cJ,5489cZv0Sf24kOWN8sModo,1RrEqGeTBHbT1TBxzmgCLb,1Enw40EYfk6SjEJwZ06O3f,49A2aHajwGDX9LeqFjSiMY,5qGZ2P45XqoFC1yVzRYDjm,0gWBJI9s7jeQPH2YlQwM0b,2P6YMsU9jt22CXfizfudi3,2zOmS55knKWSgScYPTNmGQ,03qZDQKRYZdjhKsQ5G5H0t,39dWeNKbM2Ogpba6WVI8Bc,5dUOWlWWYdAgqeXwTgbaKt,5TH8ax6OOUWhlHK3rxfHpi,6oWmcKVK6atTCoWVYTdSg1,2HdsjF5PGHPllVTSpjg4zJ,6kyNCYXDGXoDAeofcmVtgw,4wqpxVWSrEoWfSne7WNklb,6FU0Bi7xIKff4H1CYN6Q9r,6DHluTEItUYKyU5fhqLRNc,2rI46gcse7cw4KPhDzvL8G,6Qr4ufjYXdEd0KNFd7sJxx,1aU2gDpImIIzWVJtiqOCvU,7yRkdZDEKjSUP45TlkGvCd,3CPhCNH8rV1czzGSmXm9TH,5XwZGxxs8I1kGA30wyVZyg,3BM5hoJ168Kh4hYEhiNxwK,1E70pcxXiSQLtxdowVXkbM,1WxODiG0B1x5eunqiP6AoS,1yzgMzhlFNdGAlL5Mopdoq,7Ms4T0lyQZvzElhZpH323P,04S8gIcwrcm97fNZKtSGXX,0hzt5MB7hjMWDPkM5BLDLt,6J3iKDREvATgK5GHbc8SAE,2gpc06jcsNbftjUm0YmoIj,38pfUvhqVyuvlgUBiNaZSo,6AXCd4zhFP0DokZUxRzMif,09Hf0Ef5ViOn3o6BIrmNwM,4j5vH33ipS1ulVxbwtYkpm,2u9S9JJ6hTZS3Vf22HOZKg,0UFJ0jzejbR2miKi7o7CQ2,7usqgT1ajVAJ3s0wXePtRr,2e0pH3UtxqoMxJsrsLCJtG,7gWG3KFREah57vJPeT60Cv,5rN86x6tqs4odDwOsEwmyC,7IwMagdxfa8GLK0JOcDTsP,2rgWhlzASxN4MKk7c3RAGP,0z1VYx8ZWCHc7Ta76XKfrg,4Qrsb4hRtY6Ck1RLd0zBNN,2zhLwxuwQjCnBzam9FuEXC,0jsnXwAKMBZ455LiT5ovGj,4auPzExxaWRKYPiy6D96Wt,7tSqcr4ECKnbfVFr3jtxd4,3a9P1PqOV6gr4A9ywDZ7mg,0TtpH2x6eshDHm6sjxuZ2P,1NLaAqVckAi3ZaTkVyMPMv,0y0k5s6TpzkTmNxx0r5HDP,0XNZ6zY9qwJVu9JypWUcvo,6eOBXFAwOQWn9z4RPTFqIV,0NGwtgU2iuEODApOW3lhqJ,4qBVZczwBiPijZNRtskAFl,2HJu1bxkubHZEXC8r6snXY,22h0LkzTFMbj4WzDOpSGI1,4NuksWELZ9lBY9aazhZG16,1viS9a70ZuJSeXMqafkBEC,3WjljjNzoLEQxghZLoAyFQ,22YkP95GjCfXkWKyU5k1zZ,3RvkuiK2x5BlSQWYqTYjIS,5MI9rnOsAayuxi7pKVydNg,6CRKyj9tYGcZHt5lxuc1hT,2TuxpGjF4fPTNLMXP28xYb,2qMDLvoWC6qZMjNhGc9V8j,7KNFJbMvPdplvrolBUkK2N,41JiYRL2Ahnbjy0WRExDge with Params: {} returned 403 due to None\n",
      " 36%|███▋      | 4/11 [00:00<00:01,  6.64it/s]"
     ]
    },
    {
     "name": "stdout",
     "output_type": "stream",
     "text": [
      "   ⚠️ Could not fetch batch 3. Error: http status: 403, code: -1 - https://api.spotify.com/v1/audio-features/?ids=75n9WHWZAzhB59xSjIHly4,2LwsunYgfRoqyIsNtgOCQx,3be9ACTxtcL6Zm4vJRUiPG,23H67W1NWkB4DOVVT8QOfV,5VfPYI5rj8GtQ2qChKYwMA,4lnLVhGxv1YnJEJIComb9x,4qR6ZdTuHGeXdWcKJB7sUA,7cMhicmOIwfJlWURl90AOc,5JLbgRkto4OrrkWgAHcJZT,5G2f63n7IPVPPjfNIGih7Q,726SEjbF3ToEbYbn43gnxl,69GEK9C8nKwiGLMv2NbpiG,2VyvDGdcVY04cNYou9MFVX,1T2zLWVcr4nXMrMnzyHUVl,3TPKsQTu9jZyzQJiax5rLA,39AfsBXaRa8JZhl46bKGGN,6jbYpRPTEFl1HFKHk1IC0m,3aSWXU6owkZeVhh94XxEWO,64f3yNXsi2Vk76odcHCOnw,3JG1uFc40wfyrqaWC7iv0e,4r6c2ClnuYLwNv4lEM7XlW,3ovTEUMYEoiT8ikEMVXBmS,7tI8dRuH2Yc6RuoTjxo4dU,7qQE1QwOsWHtTP08hw0y7u,6WatFBLVB0x077xWeoVc2k,51rfRCiUSvxXlCSCfIztBy,5is9ECympHEpAyTw22IDC5,39glDGcpBhLVMSsQhvtqHR,47KhhDku9RLDsWIJjYaXDs,20Y4EAmSXru3foatDg4OqN,0ngL9248WWfByTMRrZwUyz,19RybK6XDbAVpcdxSbZL1o,1bJRd2ey6ER7neSxZwYdAG,3WOhcATHxK2SLNeP5W3v1v,5496lks6V3fh1mZAB6IAap,2uqYupMHANxnwgeiXTZXzd,7MX0wxRiKE9c7dmiLV3NrX,0WbMK4wrZ1wFSty9F7FCgu,74KNUsROKQpivX8RHHwwr9,74lOK0Z3WKvTpK8W8Srj1d,3MZSuu8bD15Ha7LtRWyMQg,2z9FUHRkbkV4BObNzbHsFU,1Wi1XpdZzGVIdRTzlTrIEF,52A0oY4u5ufxrHC85JGf4x,47UCIHMC5NtybfvIEZBD4E,5wbg8kepMFoMzHOEuxiI0q,7K1BLb6MpvKuGEPpHw35mO,5huDOE63jdNZTiBODndFc1,1TcF5F10EN17vraisG1gQv,3NxB1jubUWY6zit9rOk8ZC,4arNFfHtD5FPYcpUUiUOM1,6LsWeh6tZFhcoBOkp0LGMz,2qYbtIf8dRkBkKIcZVGFDq,2byoNXF9Y6qhIGBq33ATEm,1ZAY0JeV4APCcfvRkwTWEH,12OXyuPmhiyC2MYkREEAb6,4Beh3N36Rm4G42GZjdC5Jy,1f18HzFpegqvH4ibGJyeMJ,3PpIWOUaPwDxu0ysEaFfAr,1UHS8Rf6h5Ar3CDWRd3wjF,3hV1IkFNIDdPciUFbOL4i6,1cZ3mzkuWrAP1uXSWekuLD,7bywjHOc0wSjGGbj04XbVi,5o0osRx8kYJTOqlOSggr9Z,2ngt7XvZ6ypAnyeFI7SZoK,4luohviQijMNU3yWu8xUMr,3MJ6lFNV12FSHAOzTzkwxz,5UHepEU0zMnz5sx1V9idJ5,4iyCORYRUEVoGZ8aU0DN7F,6ICGEHHvGJ9l4I68zuiyXB,4tOCLn5F0GHaPl4p9RPQAb,4iD4W5c2bpkLRoFbzUIuR2,4uiV0mq0L4bRK9go2Muck8,483U0QATlToljk5Kb35RAM,2OlFA7WMfBtr1JvONddJaI,16qhKHGz2mDlFrxvNLYeHW,4ZO4HvFADvujrrEidSatEC,0pSwhT654HC2knBvjn5f89,7mdJAkMBPkKYOLxcVPDqa0,3M0lSi5WW79CXQamgSBIjx,7JMkjelaEgUOdV7926uzGi,2tKTgFfzIdGrByiAYjNXR1,0fvFSGvEAPDDMfweKvDJVa,2E53s8cIrRuty1aZdAUqvQ,05ayHD9SFkfqhVUOUxBOyv,3wPPWcVuinAU7dXcJXtCID,5M2lX0ZAYSAzCs1xPPi9BX,5rrwj9g1c4kwnPSnsXP7g3,57DTKgkc3CjkUxg0urNl1u,6nrSo5ZWhsai0oeX257rRF,0HHKGXT6NQ83tUbVI31O1H,72fcuveJcHQ61u25WHQhjw,5M1n6xeBtHTgg50ztjGgRw,177wfMc2GyarTDKEAkdlY8,5yZf2P5nOJ5rRe2lMpfocB,5IoPnNiYAOvHHJpz13wzRL,23gjnzrBdrhmEiN49pFY4k,18hYrQJdI1Pwfdtcplh0Rt,6OC87jHRiovNPEUrgaqFSu,5UpdcedkGcuishA7jlnH8W:\n",
      " None, reason: None\n",
      "   ⚠️ Could not fetch batch 4. Error: http status: 403, code: -1 - https://api.spotify.com/v1/audio-features/?ids=1MTCiRbvPK93YY6LNIeEbc,7abZdMxSDfDDf7HKB8Ae8r,3FjK86616FbluOfTxNK2gY,7hWESP9salkKYucipe5W99,5xHgo5JN0wfsV41HnRaos5,398rCeBrqZr360MpS6EXE9,2Bi7IhhjS7ZgzSe7FMaHs1,41KX8n4s243nGoFoqEjVac,15a30YqNPApO8OS0RpqNND,158aKdyaVs7HS3OfDZHANh,3gJAFFELdZyIM8tiwLAikg,0yKN9B3jYONUyvqrGkNUPX,3JhpsFR2yZhprzqXuzwGqj,3hcivoswCVR8LZkHR8MYA5,114I7yDc6X70Dq8labTqw8,7KPcippmg9MvPzb3dzNpQW,0Tqn5Th0wk55eLdga96vZM,3AWDeHLc88XogCaCnZQLVI,0JsQwqykPtt03YewNbPMr5,4DK8lTWgFCZRcErLgHQXWl,107O9gvmL7ClYS5sLx5T0U,2qD1IkLXpJwDndJEEc16XN,1gP0tMe6i0BlKtmYEoVp2i,6M5JL2JSOjLIZQa0Q5enm9,2g3gACnBVsYOeLs1u5BYNJ,6p01TrnodGu9pCPlIJN7aK,0xSjAuPhm9tJXX2nRt2Avv,1s6cXY4Fx1GcAMEDHuU0cJ,5489cZv0Sf24kOWN8sModo,1RrEqGeTBHbT1TBxzmgCLb,1Enw40EYfk6SjEJwZ06O3f,49A2aHajwGDX9LeqFjSiMY,5qGZ2P45XqoFC1yVzRYDjm,0gWBJI9s7jeQPH2YlQwM0b,2P6YMsU9jt22CXfizfudi3,2zOmS55knKWSgScYPTNmGQ,03qZDQKRYZdjhKsQ5G5H0t,39dWeNKbM2Ogpba6WVI8Bc,5dUOWlWWYdAgqeXwTgbaKt,5TH8ax6OOUWhlHK3rxfHpi,6oWmcKVK6atTCoWVYTdSg1,2HdsjF5PGHPllVTSpjg4zJ,6kyNCYXDGXoDAeofcmVtgw,4wqpxVWSrEoWfSne7WNklb,6FU0Bi7xIKff4H1CYN6Q9r,6DHluTEItUYKyU5fhqLRNc,2rI46gcse7cw4KPhDzvL8G,6Qr4ufjYXdEd0KNFd7sJxx,1aU2gDpImIIzWVJtiqOCvU,7yRkdZDEKjSUP45TlkGvCd,3CPhCNH8rV1czzGSmXm9TH,5XwZGxxs8I1kGA30wyVZyg,3BM5hoJ168Kh4hYEhiNxwK,1E70pcxXiSQLtxdowVXkbM,1WxODiG0B1x5eunqiP6AoS,1yzgMzhlFNdGAlL5Mopdoq,7Ms4T0lyQZvzElhZpH323P,04S8gIcwrcm97fNZKtSGXX,0hzt5MB7hjMWDPkM5BLDLt,6J3iKDREvATgK5GHbc8SAE,2gpc06jcsNbftjUm0YmoIj,38pfUvhqVyuvlgUBiNaZSo,6AXCd4zhFP0DokZUxRzMif,09Hf0Ef5ViOn3o6BIrmNwM,4j5vH33ipS1ulVxbwtYkpm,2u9S9JJ6hTZS3Vf22HOZKg,0UFJ0jzejbR2miKi7o7CQ2,7usqgT1ajVAJ3s0wXePtRr,2e0pH3UtxqoMxJsrsLCJtG,7gWG3KFREah57vJPeT60Cv,5rN86x6tqs4odDwOsEwmyC,7IwMagdxfa8GLK0JOcDTsP,2rgWhlzASxN4MKk7c3RAGP,0z1VYx8ZWCHc7Ta76XKfrg,4Qrsb4hRtY6Ck1RLd0zBNN,2zhLwxuwQjCnBzam9FuEXC,0jsnXwAKMBZ455LiT5ovGj,4auPzExxaWRKYPiy6D96Wt,7tSqcr4ECKnbfVFr3jtxd4,3a9P1PqOV6gr4A9ywDZ7mg,0TtpH2x6eshDHm6sjxuZ2P,1NLaAqVckAi3ZaTkVyMPMv,0y0k5s6TpzkTmNxx0r5HDP,0XNZ6zY9qwJVu9JypWUcvo,6eOBXFAwOQWn9z4RPTFqIV,0NGwtgU2iuEODApOW3lhqJ,4qBVZczwBiPijZNRtskAFl,2HJu1bxkubHZEXC8r6snXY,22h0LkzTFMbj4WzDOpSGI1,4NuksWELZ9lBY9aazhZG16,1viS9a70ZuJSeXMqafkBEC,3WjljjNzoLEQxghZLoAyFQ,22YkP95GjCfXkWKyU5k1zZ,3RvkuiK2x5BlSQWYqTYjIS,5MI9rnOsAayuxi7pKVydNg,6CRKyj9tYGcZHt5lxuc1hT,2TuxpGjF4fPTNLMXP28xYb,2qMDLvoWC6qZMjNhGc9V8j,7KNFJbMvPdplvrolBUkK2N,41JiYRL2Ahnbjy0WRExDge:\n",
      " None, reason: None\n"
     ]
    },
    {
     "name": "stderr",
     "output_type": "stream",
     "text": [
      "HTTP Error for GET to https://api.spotify.com/v1/audio-features/?ids=6zY829UlOMYoOIULHiGIZz,5ROQZz09NH2V9uMA3nrTiK,6lKSOnC9iLGDonypMgvGrm,1mO3hOEayERMNUGIpAwImF,1W56N5mZJxIzbPqrrcv452,1u7kEywJiaQFw7ylRi50PP,7DKqquL8njykv59YgLtJU9,5ndDgAqa9XNZsfdt6MVHIC,1qLEtiVIMaYmUOeGJUSoPQ,7wTFTswx0hWoF2jzfOs7ta,4aAZTaXHlm625nZhF6Zr12,7L3Pw4DFV4vsNOAj08pfCI,3B32IYD2zmDza2Pp17xqgV,20kaCbdgkJRUPniPVZgsoR,7oN7VcpfjpSyuzScL3930l,5vlT32Iekesqq76rFhnx9B,2wG1mwTiuvqll9YYLMjSaY,6J5kc12BW5HuP3d7C3vvx8,2DW0Mowto3hrXkFBQt0nye,2KWhl75cqqKWEqTIHv1Zsd,2K8mcs3oC7T23lArGehWwQ,2uBKQbVcw8G9m34lGYM6VA,0vsW1vAlNYiy9Y5briGT8Y,5svicODBSeMb67wuBeqW5T,6bZuZKR8hoyzZXNh1IW2Bu,01JATpwGBlirlrNfDHTjaD,3AdXwuFn7j21HNiFMXvZXt,5IL3VPDy5siXiptYHF2aLS,7lfyWyus1wg0h0FDCOKkQg,0JXt4bGTLQpprmsMuU3n2D,6JhenmFRd68hlqpIkRVA1d,1c1due5Cdi7ZHUFvavE4HX,6ewcR0FnLdKjIt9gcMghrQ,44MnSCzK2nFWQvv0kjUvkW,0OJ2N4lAF9UueiaXRp7dr2,1hoeP1oPYlhcv6iRCtB7pT,2OBzYCYMNsD6yhBZZSs0xg,2k6FKrR0wDIs6xCtU51GZ7,1c2AFg2WpURtpsOTMr6ZBX,1w9Mk87mUA4hhA2wJCuiB4,0omoINYneUCby7DVJyiWuC,4bhA5X3qMEcTycEoW6BvJ2,22WFoPT9VIJlZ0VcJVkCpm,2ttIodvY52FYgod5qrcQHN,3KokqGsGKwLNjHxLbRIBQt,1T38okUZknebljidMNSvfJ,4zSPRXPBgSRuNTrZT7Qdog,0Zdm3D1H3cH51PPZfgERcw,1efXUbx5gsLd2sqjszBtx1,2rtsTSyvBThX27N89GRpaj,1lppreanVHIEN8yW2LtdPx,2UYuux157cn498H23UfHQf,22tmzHt5QJ2sMKJefaqkjn,7zsSqoqPtnzxXO708h18uF,3ZHGWpNUOSgNaghNfgzyYo,3aD33slymVwdEcdbKUBnDu,5WZL03aLF9GVNaa5Q6ATNe,2aSjWonALEwE3wTpjYMvc7,1fUZ5sHQqV6AMCwV5KtbgV,7DQotDUGnJkXgNJv363GXF,1nXXqWvZUYXUyM9HCrXt1V,2nopDUxom21JoMzFXj9wS0,7AAcT7MunkAjHyk9Abg774,0msaU8EK13ajrXaF3SqoKy,4dsjSfMhnlF8LZEjw7eNUi,3DTGOe9oWi4NwNNF8jeQt0,1GexRDFzRQpNkflfXgI2lM,61pHHYNCngD1S2t0k7ew3e,6Wobsw9uZ0D0xkfOjxXSq9,2TphGDtJvFBaF9UjkCHDir,4hPfeqGlxfu5erWE4kAR9h,4FshkQRZadg5VK7WSSM9Dd,2gLZzzXBkcCxcEcCesGRbH,3qo55kZpzioiSTdJH6KRng,493EqYnNogT9DZcEyq4cXS,5p3ckKoVpUi51ByUmA1vfT,3WvPycGo4WJEEGYP429aap,1suxL65o1WETsaGBf7e6Gk,2yioxPsU0aiU4dGtZPoK8I,3JgCL9UVShnYUeyAq0wdYq,0a7zBmFbsV6cp28R7H7h7D,40sRMHcdSscmLVWqCiFdML,6Yhzabh1wK19kniAJOz1G2,1MDyUzZgyrdeQVmV1FU3WQ,5sgDwMn2xojlQ5jNFV698W,0ElVpg9XIswx3XWs6kUj6a,3HiwSiBqwXHy20VUVv44We,3qZIDnYxLaUl19z0Bjam6C,1ouHvQBpjxROQp0byBbyKN,1QmDEbAJ1jTCYDbXrTIYor,0QAUgW2vTmlUWhbiNeSkWm,0ZqmL4ItObPL4Gp156gPyP,6zfJzUnevLqbmTtCCJslX2,4tdSojwmf4vNZMWS6HcQWb,77jEjHBhsZruadNLzb4rsJ,1HuDcH1KECyj1aCHub4D4G,5xccy9zo3LoXPznM8qHzAb,0nZUQdt97RJ429I0FuAO2r,6vM1GSndPtQk7AmqEmNAPH,3ld1FzyNgpZwGn4h9cOXrq with Params: {} returned 403 due to None\n",
      " 45%|████▌     | 5/11 [00:00<00:00,  7.33it/s]HTTP Error for GET to https://api.spotify.com/v1/audio-features/?ids=0wLCc3EWV2CV6mb9Nz40hH,27xkOIER6uDLKALIelHylZ,4wTvw1dBiPXNiHTh0zzpcI,1I3YPOEyTzpPp3zlYfO99o,5Ptt8Whisd1IwucwgXEyeT,6N9WShRfHZc9jnDDQQaR4N,6PAt6xtbwjpRwG4V3zKWaK,5XlZ6Z7MqWajjms2m2Qu7s,7BM311QgIRlXRTZsPCIsQP,3GqL6znvuvpQR0x7ios7jS,4S7jZg43skkD2YqLa31URQ,2kG8Hx6weB8ozh6gOZ8SmD,4w3Uy4n1hfj1mx6ag7bII5,0a8rvYEGeBv8gLCEpRsFcJ,2rbmLV1pfFSY2d1TGrN1oA,2CzPV6BQsDX3UXoi4w7hyj,1FBeELp7Fp3LZ8IgvcWDsf,1QFfgavc7e4Vtf087zg8uP,20nZW7TeASjjbpJWqcj1H1,7Fy3hVJPRfPcqcbiBGUh8I,3yUgueKNDOHYuM7DDEx3Rc,5W2OBkEwUDJu5veMc6ZH1o,6IabIimt88FcZu80dunXWA,3FPUFltTjg6ClUL2wr9ux6,2J051fjLklkoPbzOoTAACZ,6AZuL3h2it4N0o86zlq8GI,1DFmBjoeQN9DpOVTEewyx0,0mpzNuhGbzP1ffZuf8IZ5S,2z4t6UgsOQeuzWF4CN6RWu,4RwOxifGEzFMm6p8DqC8Ny,3Cju4hxTTHvFkb7OcLIk3f,1EcSuTMIVcLNnqq4TrPaTe,7DNTmEFMARpxeSFY82wZiw,2TuVErkUG3BdQR0dsbtakg,0nhzNdW0JATIGNAYNMqLOS,7tCXmtYrYNFWMa7vyQfuAI,7xoopzOFudgNQ25OOqsKX4,70PL8h8O1GjdsKlefuF5Gn,4gYnFrL4S87lPBFQ2ItJVx,1PyJuE9ZMWStB6ZuAFim4v,6eKJ2f4krilnklIXlVs2vK,2z1zvWsC4lC81bWKS5K3Vt,7bDFVicEweylijRmYV3fCf,4PcnXqsozzuF0otxaXcDxa,6DzXaIgVIH7oLA1pkUtFaG,3EL4YcUAmGkfTKXhS49Y3w,6T6bCrttnr34VhDb2MuM35,1QO6A6YsufugovuDMGnJPf,7n6DnNdKKhjyDa1GlGgLeQ,0qmhTHMVxnXRmT5N92wTD9,3SAga35lAPYdjj3qyfEsCF,7u7IqryLFAygWFz6bsEB7y,1cxCfIcMvt1mNvNWKLY6yP,37yLdFx2EK0U6U4ChO3FKY,09UYofj7iYJ6ORZMPx7Qlf,1UlkpIKiVchDMB03AN6LmT,126ybtMM3PXIo6rnwCSe6i,2egqivqmkSIxyKNnpG0Qm3,4m2TnovpD9LRPxSlzzNCCn,6GTyZph2sNYIDnUZNSFoy2,7rZmBZLfhgh000Zcureczx,2Rr9a2sxcTIe9xhfaEmFTL,5RTxa9jsUa7JYcn9McdQ8f,6Qs5f4GnWPnKM0vTK8LdUI,4SNPg0KDZ859vauVTaNg7i,0SqHkArDOl5lU4XmASnjBV,5vRvTccr05SrSnqVvNAmVX,3xdRXm4yzRPXfBRf6B2IUN,7rQxgwpo7sS77Yv0oVYG81,2WzOaA2n7N0d8mLdTLEcwG,0yfuV7ZI2e4baQxZUBegUr,2jWZ9NZotZb2hN5obKx2FA,3QV6KLr9VXTDMRLW0OSMUA,0x6lKDXprQv59SDymKMuwi,1EWQItYxD9C6dicju78MWC,7GmAIRZo719xQ2i2wG6Pxx,339pyMZLyhtl2zlX2KUTmQ,3XJQz97R6A7bXn8awvFknM,0HfylTo23WNyrsQ0sMJgxM,4g1gtAETdNfsNT5GBxNW34,3kTYwlSBqZZ1a5sLCS3SBZ,6ExEV08wGlV5bLqtyRAsdJ,74FKkpUQ42YGlYooankM8g,0NtukNGKbHAElVum3NIbMF,7A1QLN9c3uKeQdhp05o0jp,3xQLbgSyVAYtQIcS39ecGL,3xnyA3owEyMqQn5nj7thw5,5ELSNOIEl2Iqq3f8MEsc8Y,0LDMA9l5MpiF0iGa49vQb2,4O1GFM32dqFaZywISktKIL,0dC9OuZL5Qh70N37wtwGHJ,1ZOJTWzIo70uY4WOpcTrds,493FTCCY5sMAlb10ICFAtJ,65crqZhjAbaM6bmNCgDf9M,7MerIDn7wpEH4OEGbpasSH,3GCdLUSnKSMJhs4Tj6CV3s,37UCSVSqiPGdR1DijOFyYY,01WFjqzUwrD4nfSQsHMVNm,7xWvRVssTTECvWCDNgCzSH,5tVnzVWIKrmmuOPGbXUbT4 with Params: {} returned 403 due to None\n",
      " 55%|█████▍    | 6/11 [00:00<00:00,  7.79it/s]"
     ]
    },
    {
     "name": "stdout",
     "output_type": "stream",
     "text": [
      "   ⚠️ Could not fetch batch 5. Error: http status: 403, code: -1 - https://api.spotify.com/v1/audio-features/?ids=6zY829UlOMYoOIULHiGIZz,5ROQZz09NH2V9uMA3nrTiK,6lKSOnC9iLGDonypMgvGrm,1mO3hOEayERMNUGIpAwImF,1W56N5mZJxIzbPqrrcv452,1u7kEywJiaQFw7ylRi50PP,7DKqquL8njykv59YgLtJU9,5ndDgAqa9XNZsfdt6MVHIC,1qLEtiVIMaYmUOeGJUSoPQ,7wTFTswx0hWoF2jzfOs7ta,4aAZTaXHlm625nZhF6Zr12,7L3Pw4DFV4vsNOAj08pfCI,3B32IYD2zmDza2Pp17xqgV,20kaCbdgkJRUPniPVZgsoR,7oN7VcpfjpSyuzScL3930l,5vlT32Iekesqq76rFhnx9B,2wG1mwTiuvqll9YYLMjSaY,6J5kc12BW5HuP3d7C3vvx8,2DW0Mowto3hrXkFBQt0nye,2KWhl75cqqKWEqTIHv1Zsd,2K8mcs3oC7T23lArGehWwQ,2uBKQbVcw8G9m34lGYM6VA,0vsW1vAlNYiy9Y5briGT8Y,5svicODBSeMb67wuBeqW5T,6bZuZKR8hoyzZXNh1IW2Bu,01JATpwGBlirlrNfDHTjaD,3AdXwuFn7j21HNiFMXvZXt,5IL3VPDy5siXiptYHF2aLS,7lfyWyus1wg0h0FDCOKkQg,0JXt4bGTLQpprmsMuU3n2D,6JhenmFRd68hlqpIkRVA1d,1c1due5Cdi7ZHUFvavE4HX,6ewcR0FnLdKjIt9gcMghrQ,44MnSCzK2nFWQvv0kjUvkW,0OJ2N4lAF9UueiaXRp7dr2,1hoeP1oPYlhcv6iRCtB7pT,2OBzYCYMNsD6yhBZZSs0xg,2k6FKrR0wDIs6xCtU51GZ7,1c2AFg2WpURtpsOTMr6ZBX,1w9Mk87mUA4hhA2wJCuiB4,0omoINYneUCby7DVJyiWuC,4bhA5X3qMEcTycEoW6BvJ2,22WFoPT9VIJlZ0VcJVkCpm,2ttIodvY52FYgod5qrcQHN,3KokqGsGKwLNjHxLbRIBQt,1T38okUZknebljidMNSvfJ,4zSPRXPBgSRuNTrZT7Qdog,0Zdm3D1H3cH51PPZfgERcw,1efXUbx5gsLd2sqjszBtx1,2rtsTSyvBThX27N89GRpaj,1lppreanVHIEN8yW2LtdPx,2UYuux157cn498H23UfHQf,22tmzHt5QJ2sMKJefaqkjn,7zsSqoqPtnzxXO708h18uF,3ZHGWpNUOSgNaghNfgzyYo,3aD33slymVwdEcdbKUBnDu,5WZL03aLF9GVNaa5Q6ATNe,2aSjWonALEwE3wTpjYMvc7,1fUZ5sHQqV6AMCwV5KtbgV,7DQotDUGnJkXgNJv363GXF,1nXXqWvZUYXUyM9HCrXt1V,2nopDUxom21JoMzFXj9wS0,7AAcT7MunkAjHyk9Abg774,0msaU8EK13ajrXaF3SqoKy,4dsjSfMhnlF8LZEjw7eNUi,3DTGOe9oWi4NwNNF8jeQt0,1GexRDFzRQpNkflfXgI2lM,61pHHYNCngD1S2t0k7ew3e,6Wobsw9uZ0D0xkfOjxXSq9,2TphGDtJvFBaF9UjkCHDir,4hPfeqGlxfu5erWE4kAR9h,4FshkQRZadg5VK7WSSM9Dd,2gLZzzXBkcCxcEcCesGRbH,3qo55kZpzioiSTdJH6KRng,493EqYnNogT9DZcEyq4cXS,5p3ckKoVpUi51ByUmA1vfT,3WvPycGo4WJEEGYP429aap,1suxL65o1WETsaGBf7e6Gk,2yioxPsU0aiU4dGtZPoK8I,3JgCL9UVShnYUeyAq0wdYq,0a7zBmFbsV6cp28R7H7h7D,40sRMHcdSscmLVWqCiFdML,6Yhzabh1wK19kniAJOz1G2,1MDyUzZgyrdeQVmV1FU3WQ,5sgDwMn2xojlQ5jNFV698W,0ElVpg9XIswx3XWs6kUj6a,3HiwSiBqwXHy20VUVv44We,3qZIDnYxLaUl19z0Bjam6C,1ouHvQBpjxROQp0byBbyKN,1QmDEbAJ1jTCYDbXrTIYor,0QAUgW2vTmlUWhbiNeSkWm,0ZqmL4ItObPL4Gp156gPyP,6zfJzUnevLqbmTtCCJslX2,4tdSojwmf4vNZMWS6HcQWb,77jEjHBhsZruadNLzb4rsJ,1HuDcH1KECyj1aCHub4D4G,5xccy9zo3LoXPznM8qHzAb,0nZUQdt97RJ429I0FuAO2r,6vM1GSndPtQk7AmqEmNAPH,3ld1FzyNgpZwGn4h9cOXrq:\n",
      " None, reason: None\n",
      "   ⚠️ Could not fetch batch 6. Error: http status: 403, code: -1 - https://api.spotify.com/v1/audio-features/?ids=0wLCc3EWV2CV6mb9Nz40hH,27xkOIER6uDLKALIelHylZ,4wTvw1dBiPXNiHTh0zzpcI,1I3YPOEyTzpPp3zlYfO99o,5Ptt8Whisd1IwucwgXEyeT,6N9WShRfHZc9jnDDQQaR4N,6PAt6xtbwjpRwG4V3zKWaK,5XlZ6Z7MqWajjms2m2Qu7s,7BM311QgIRlXRTZsPCIsQP,3GqL6znvuvpQR0x7ios7jS,4S7jZg43skkD2YqLa31URQ,2kG8Hx6weB8ozh6gOZ8SmD,4w3Uy4n1hfj1mx6ag7bII5,0a8rvYEGeBv8gLCEpRsFcJ,2rbmLV1pfFSY2d1TGrN1oA,2CzPV6BQsDX3UXoi4w7hyj,1FBeELp7Fp3LZ8IgvcWDsf,1QFfgavc7e4Vtf087zg8uP,20nZW7TeASjjbpJWqcj1H1,7Fy3hVJPRfPcqcbiBGUh8I,3yUgueKNDOHYuM7DDEx3Rc,5W2OBkEwUDJu5veMc6ZH1o,6IabIimt88FcZu80dunXWA,3FPUFltTjg6ClUL2wr9ux6,2J051fjLklkoPbzOoTAACZ,6AZuL3h2it4N0o86zlq8GI,1DFmBjoeQN9DpOVTEewyx0,0mpzNuhGbzP1ffZuf8IZ5S,2z4t6UgsOQeuzWF4CN6RWu,4RwOxifGEzFMm6p8DqC8Ny,3Cju4hxTTHvFkb7OcLIk3f,1EcSuTMIVcLNnqq4TrPaTe,7DNTmEFMARpxeSFY82wZiw,2TuVErkUG3BdQR0dsbtakg,0nhzNdW0JATIGNAYNMqLOS,7tCXmtYrYNFWMa7vyQfuAI,7xoopzOFudgNQ25OOqsKX4,70PL8h8O1GjdsKlefuF5Gn,4gYnFrL4S87lPBFQ2ItJVx,1PyJuE9ZMWStB6ZuAFim4v,6eKJ2f4krilnklIXlVs2vK,2z1zvWsC4lC81bWKS5K3Vt,7bDFVicEweylijRmYV3fCf,4PcnXqsozzuF0otxaXcDxa,6DzXaIgVIH7oLA1pkUtFaG,3EL4YcUAmGkfTKXhS49Y3w,6T6bCrttnr34VhDb2MuM35,1QO6A6YsufugovuDMGnJPf,7n6DnNdKKhjyDa1GlGgLeQ,0qmhTHMVxnXRmT5N92wTD9,3SAga35lAPYdjj3qyfEsCF,7u7IqryLFAygWFz6bsEB7y,1cxCfIcMvt1mNvNWKLY6yP,37yLdFx2EK0U6U4ChO3FKY,09UYofj7iYJ6ORZMPx7Qlf,1UlkpIKiVchDMB03AN6LmT,126ybtMM3PXIo6rnwCSe6i,2egqivqmkSIxyKNnpG0Qm3,4m2TnovpD9LRPxSlzzNCCn,6GTyZph2sNYIDnUZNSFoy2,7rZmBZLfhgh000Zcureczx,2Rr9a2sxcTIe9xhfaEmFTL,5RTxa9jsUa7JYcn9McdQ8f,6Qs5f4GnWPnKM0vTK8LdUI,4SNPg0KDZ859vauVTaNg7i,0SqHkArDOl5lU4XmASnjBV,5vRvTccr05SrSnqVvNAmVX,3xdRXm4yzRPXfBRf6B2IUN,7rQxgwpo7sS77Yv0oVYG81,2WzOaA2n7N0d8mLdTLEcwG,0yfuV7ZI2e4baQxZUBegUr,2jWZ9NZotZb2hN5obKx2FA,3QV6KLr9VXTDMRLW0OSMUA,0x6lKDXprQv59SDymKMuwi,1EWQItYxD9C6dicju78MWC,7GmAIRZo719xQ2i2wG6Pxx,339pyMZLyhtl2zlX2KUTmQ,3XJQz97R6A7bXn8awvFknM,0HfylTo23WNyrsQ0sMJgxM,4g1gtAETdNfsNT5GBxNW34,3kTYwlSBqZZ1a5sLCS3SBZ,6ExEV08wGlV5bLqtyRAsdJ,74FKkpUQ42YGlYooankM8g,0NtukNGKbHAElVum3NIbMF,7A1QLN9c3uKeQdhp05o0jp,3xQLbgSyVAYtQIcS39ecGL,3xnyA3owEyMqQn5nj7thw5,5ELSNOIEl2Iqq3f8MEsc8Y,0LDMA9l5MpiF0iGa49vQb2,4O1GFM32dqFaZywISktKIL,0dC9OuZL5Qh70N37wtwGHJ,1ZOJTWzIo70uY4WOpcTrds,493FTCCY5sMAlb10ICFAtJ,65crqZhjAbaM6bmNCgDf9M,7MerIDn7wpEH4OEGbpasSH,3GCdLUSnKSMJhs4Tj6CV3s,37UCSVSqiPGdR1DijOFyYY,01WFjqzUwrD4nfSQsHMVNm,7xWvRVssTTECvWCDNgCzSH,5tVnzVWIKrmmuOPGbXUbT4:\n",
      " None, reason: None\n"
     ]
    },
    {
     "name": "stderr",
     "output_type": "stream",
     "text": [
      "HTTP Error for GET to https://api.spotify.com/v1/audio-features/?ids=0NRIWkmQiSoIaEs3wvoSS7,1LPwPrqylnbchpPYUZsuZ8,0mhTXfQbfTOd8VGvnsTr1P,0WaszHB3WX7MrWhTDKJ8w0,3zAQQXsqLkD7ji4pQzKD0v,6XMNNNDOnkTXSh567RaGsb,0npEFzbFBxYea9nZIYUnmQ,03HuVUgzwdz4HNn6qiEPmJ,72PVbRKkUimweUPV0nKAPs,0smB5zD5CJYMtdXvS2qS5A,3eQsZyBNQSOAE5bzLH0JFt,0LutvoC2HqCfnaRSjrhtzo,39QvuWaRVyyLT9yQKn8Qy0,16XLWurcZVM96mYBgtPz4s,3pgwQNwEqbU12kLNXNDB7Q,4y6rZU5JCcDrksYDq7CMAY,4GojOaaXHYF8sX4u4jLjYJ,0LPqVcXdVWsiGz7SkyOrC4,0Upay8wgPd30hQPjeWXHOC,45Exz93oyRbDvmM8FvpgYz,0SMFOOsqD1jicOhuorY1vz,4uVLSm8PxZI3R76vbbeppn,5emOdyBZqKrL06yqZsQKFZ,2dworjMwgs5pglkFzszCUe,6U5AgSYUubKMrMDEazfSsF,13AzsOOlv5lwEeKsI1pAUt,4bylJIKOGyjXrQ6voXILh9,3awCCyQfwNbQdf3lL5EL7C,0kvklDSNAkcENUPfEvQNvC,4ZvwRwdFa07GQy64zSy8tY,4sMR8fuTzbUyzB0asxifV0,0eJSm2G0t3XX4SUuU1aSaH,7iwPGVfoiedHFNHvpxTznL,5ve67AkrXN3B6Gx7tHfz76,6MrLkXsMmHaYt680fhJUAq,3hH3ypxqE0JwYq4mfyYmlD,2sL7gSkWNsHU3zEMT67edU,6eDKyG6jvCXaTyTdFOh9wA,2Di98CfbonuWEfCIONlWO0,4yYI0Cly9B2p8XbNxfNCRy,1vP18y049pwS2OWUrvDjIE,0o7fAE9dLRLx4kGMh3QFot,6ilN1lV6PMuFjihFx4AtY3,4aq8B0rv4GV65HRXlRbCT5,3Z23sDc2J9ZkmFiMStRoIp,6GItLfbLMM8Weu099G46qx,5oOKU4RiAMyqUoOKICb92j,04txXxnX14crWZJZz59Srm,4vaw9dc5yqkOrKr18Mkwty,3G1MtAFexVXuE0CTofF0mt,6yVY5sNFFrpxloDUjwVOHU,4wiXESM1bi4eiMr4KaV5C1,0O58EzrtVcjP0XLXnyKTXR,43RZQRAL5M9pmDDkQwFQYp,7Dh4j5JltkdH159xm77JiF,3icZ3wDL4J31dUFbIqGm7q,7qNlKnzsoNz00eUxvGzdmP,6whv4cMPhgbBCVhhffQP4u,2ZKm0cv6n9G0u0mNNadw8V,0m00au0MMoII2767mu4sj7,0YMP9iIN0kPO3kp7pnxZpB,5Oqoyydz7aYxTezM4irIbB,0fFuYpZTolMFgDMVPSVRMx,3Q3Infgim4rgSUslJojSED,1qHhr8GD9YOMpuMz37nal8,5s8rHRJ6rG2Sr8ugXyFa5f,3NFs3XUduzBfvc5Bx1gmzh,3UYxIENAasKz3LVwOnTeLX,3gKRTlHyCDpttUD2FHEE6W,0DBJj7cIbTdCPmrvGlz4AH,1VDfvBUMwL3m1Sd9dMorR4,2iANaOu9ypAYmuiHf1QoIa,54F4Vou1VXstyMzc2TcWGL,4X6Ndo3FHuYqHJmtRFaO2j,61eLbzsRkyGfRV8KcAVDGG,54PjbXrV6ONeRRZ0Ryvjzg,3L6OJHHhcFaMpWDxLRDhKr,3rTvXpSq6fDU1PitJlmnhm,3Kx7gavZ1oFRnB2trqLLLM,1MnYnayoEmTfZTM7GoPJGM,6NzoVYiCWulsOECuaXDazA,3OgdqZIgGIqusstV9IqX6p,60Jqns1ivZYGsupZATGbXv,61B6R29gn6rEbhHzLv9ess,2xeTDoozKW0Igu501Yntux,0Jl7f00nog4z31Cw2xYZqP,10WWosq6z75o3WGRjL4v2D,5eGSOtR7j0LuzmM8F0dCAW,58619fQo4MdO8FYMnoWy66,22LulLIuYZS8qspHQeVi7w,4G8vN8TG4Pl2V105VEn34D,3f3ujFD6YndqRRVYuBcq7T,76Cui452ccAdNSbiileyhZ,1H52Xqp7dqMUCchXW0dXfv,20B2I2t11yceg5v6CSdF2C,1XZK1B904mtFv1Ze3Rgeg2,0WjgqfgjsdwZnwUBCqdOxq,1OcV53oesLQw3VTW9I3uD3,46BjFXnWrumhdl0uvk7IwE,4xOTz6yh8r0mXZwzhvWuna with Params: {} returned 403 due to None\n",
      " 64%|██████▎   | 7/11 [00:01<00:00,  8.13it/s]HTTP Error for GET to https://api.spotify.com/v1/audio-features/?ids=6Gfbu9oUqUabKtnd6QM31o,25ZtcdNKE1WBjMrizwlWhO,1mEQbSq0PCNjyL6oMgHKFQ,2pi42mKKIyoVCJ51IP2YBj,5byb8ihCSCwtDnmCxjJl2q,6Sf7lbstyKeEr2e95oF4Qj,5JB00a3RQWtVWqo6QDySuh,5Yn3xl6mbfzTIwiWZn8lud,72R88Czym52F41DZWxL2fY,2Gq5bNo8TW621rc1Rrgnkv,3o5HBXj6lHDYX3a8jjuq40,0TsqrYn4ta8Xkvez2oHx7B,3xcf6DL9oc2botvStMUlnD,0evXzmUwGhLKtuVLg83oLx,0BI2JnruCf2fZt7Jp1vU3b,7bgYrlMU0S1wfNPPD4A91Z,4nS8zcaOLQqrLOdCPMPQjS,2ipIPsgrgd0j2beDf4Ki70,0p0MAIlilvpexlqnTVJjII,0U1nO2frLx8w2dIsfvlP1d,5AvrkGFKSu7Hj66y7BPiBE,7uWS4zoWMNU9fUPojMYilC,6zWH2EwilZeTmHadADRJYG,19poh0XywcD5wPO6YuIgXT,4lWnh8J3XsWTtG20xWFjfF,40LqINLIDhx5qEJQfG7rnN,3XvpJRDF9ZPkoEWIkTDVoy,6QNvGDyclysWjq7QQcWHAk,3yBj8i8CwSThNNtWVqwje9,3wLvOITQt7cbK4KzQ3dufu,1WKafez8TM4dVYlSsxi6dS,3TesGaCMKpcLnZackJcBX8,71GABxN1QMc3RbtKqhYvXb,6OfVUaklMbXcR1qOeqqqvc,2Km8hIwZJWq7migmM1dZzy,1eTaznNW4Xxtx9za2SMTXB,6e2uvfP3pRdxsQLFSnbJPO,1MhXchY126AX5Iuv4Odbe8,2WCbUIIPHbX6t9M0UH0p4S,42ff9QhhQJM5StZgnHNAe9,48Aaun4BxBWZFZbIJeAlpM,7tTTe6pCTxB55H9NWLxYNM,1q9TpHnaObjSKINEJPXaPx,0vBqDdVYnqGAD41TsizN73,52NFoPnzxOKPIcJIQ9mb5Q,1CqyErlQstROOe9hAn93oI,5kILHrfMHQ4eFHZqnu4yY3,6uS58ykUmaKr8YWIecDPP6,2kTnXxFUsLjpdkCf4PEPKg,4KjYUChBj4tlC2h8AU9q8H,0TWdO0ephIotzHvGuv2pGC,5rYlZ8gsixT7gM3ny5qBYJ,6nkQrHvWMu0vSse3nQGSPV,2Is8alFOh4eCKkWitOscTZ,0eMZLYOjO2exv90CuER4B7,4KhB8OWT2SE20IFXA2Do2Q,3NRMx8ZKh6OHPotPxW4O4C,2DewmibGFWxakcxvVyf2Tv,7AKwWqnoMmvCqBQtcdIECG,7rzzByujLJIBXpyOCnJhfx,3P28x30LU3FhaAvNkTSliI,321yySUTzRXUbzkRTeTzDB,29iva9idM6rFCPUlu7Rhxl,1j8TmNa6vaFAEAws43kP0Q,3IjFwyQmjlLTrApPSGOlf8,3f4evenChyF1t9DCZAlCdS,1QH0jep0GpK2fh22owVsSV,5iSdtklaHGhsLtWZDgFUiB,3rnu806sQS4sNydAjQRhdO,2gRlr7ST008bLvbqNKDjYd,7xIoinMSiwIp5BWR7toO1O,6YzWNNWyxVGC0eczvuUtmF,4Qia8t2vNSY3qyMYe6zCU9,7K2iEmgO52wqPyCbulVqBm,2CMfnYSI28O570OE7ExscU,01U0X0ToQhK0AgvNUdyXQe,4BguFKjpssDGdARiq5vVmn,1iJ9cSEWYQsd2M7ROFyIZx,4FEgmZNndauGaHjSM4AGiH,4bqoWiI9AM0rrpbR1lrHIJ,7mfbHPYJNdBilOyRqsl8Fe,0aWHb6ujnlXkmmOI1ltStc,48kPIdu8fCPzTENDILb6Ux,774nTFW1ucloOlrlHteqjU,5pyo1cM0fR2EDJwHLkdOSh,3ODfNdDz9b9VmABFncYmPG,01Rxgjh6AJ2jc8CTt1tUfk,3z0wu0aE5CGRKyklWuBV6H,5JgNxMf1Z9oksGKidbFAUq,0GKdibD4JGcANUZG39kxfs,6ae7Ljp0zKyLPSesJRc91w,0kTSKLxL788crf000tgIjp,4svSxX04Y90JGFM9j35tyW,6CgEmAzP3v3FKF3Gg46O5L,68Obsp7H5akdfFR4geTZpD,6QhN2P52cAEYZPjVAUjSJF,4PJAJTXmQ83BPxWEMm9A2T,3oh6b3sfhR5QeV3T44pit1,2RyHGy4fZLSaKm6K0jQFOm,2ZaXLh6S6MX7hhEE3RiUUb with Params: {} returned 403 due to None\n",
      " 73%|███████▎  | 8/11 [00:01<00:00,  7.39it/s]"
     ]
    },
    {
     "name": "stdout",
     "output_type": "stream",
     "text": [
      "   ⚠️ Could not fetch batch 7. Error: http status: 403, code: -1 - https://api.spotify.com/v1/audio-features/?ids=0NRIWkmQiSoIaEs3wvoSS7,1LPwPrqylnbchpPYUZsuZ8,0mhTXfQbfTOd8VGvnsTr1P,0WaszHB3WX7MrWhTDKJ8w0,3zAQQXsqLkD7ji4pQzKD0v,6XMNNNDOnkTXSh567RaGsb,0npEFzbFBxYea9nZIYUnmQ,03HuVUgzwdz4HNn6qiEPmJ,72PVbRKkUimweUPV0nKAPs,0smB5zD5CJYMtdXvS2qS5A,3eQsZyBNQSOAE5bzLH0JFt,0LutvoC2HqCfnaRSjrhtzo,39QvuWaRVyyLT9yQKn8Qy0,16XLWurcZVM96mYBgtPz4s,3pgwQNwEqbU12kLNXNDB7Q,4y6rZU5JCcDrksYDq7CMAY,4GojOaaXHYF8sX4u4jLjYJ,0LPqVcXdVWsiGz7SkyOrC4,0Upay8wgPd30hQPjeWXHOC,45Exz93oyRbDvmM8FvpgYz,0SMFOOsqD1jicOhuorY1vz,4uVLSm8PxZI3R76vbbeppn,5emOdyBZqKrL06yqZsQKFZ,2dworjMwgs5pglkFzszCUe,6U5AgSYUubKMrMDEazfSsF,13AzsOOlv5lwEeKsI1pAUt,4bylJIKOGyjXrQ6voXILh9,3awCCyQfwNbQdf3lL5EL7C,0kvklDSNAkcENUPfEvQNvC,4ZvwRwdFa07GQy64zSy8tY,4sMR8fuTzbUyzB0asxifV0,0eJSm2G0t3XX4SUuU1aSaH,7iwPGVfoiedHFNHvpxTznL,5ve67AkrXN3B6Gx7tHfz76,6MrLkXsMmHaYt680fhJUAq,3hH3ypxqE0JwYq4mfyYmlD,2sL7gSkWNsHU3zEMT67edU,6eDKyG6jvCXaTyTdFOh9wA,2Di98CfbonuWEfCIONlWO0,4yYI0Cly9B2p8XbNxfNCRy,1vP18y049pwS2OWUrvDjIE,0o7fAE9dLRLx4kGMh3QFot,6ilN1lV6PMuFjihFx4AtY3,4aq8B0rv4GV65HRXlRbCT5,3Z23sDc2J9ZkmFiMStRoIp,6GItLfbLMM8Weu099G46qx,5oOKU4RiAMyqUoOKICb92j,04txXxnX14crWZJZz59Srm,4vaw9dc5yqkOrKr18Mkwty,3G1MtAFexVXuE0CTofF0mt,6yVY5sNFFrpxloDUjwVOHU,4wiXESM1bi4eiMr4KaV5C1,0O58EzrtVcjP0XLXnyKTXR,43RZQRAL5M9pmDDkQwFQYp,7Dh4j5JltkdH159xm77JiF,3icZ3wDL4J31dUFbIqGm7q,7qNlKnzsoNz00eUxvGzdmP,6whv4cMPhgbBCVhhffQP4u,2ZKm0cv6n9G0u0mNNadw8V,0m00au0MMoII2767mu4sj7,0YMP9iIN0kPO3kp7pnxZpB,5Oqoyydz7aYxTezM4irIbB,0fFuYpZTolMFgDMVPSVRMx,3Q3Infgim4rgSUslJojSED,1qHhr8GD9YOMpuMz37nal8,5s8rHRJ6rG2Sr8ugXyFa5f,3NFs3XUduzBfvc5Bx1gmzh,3UYxIENAasKz3LVwOnTeLX,3gKRTlHyCDpttUD2FHEE6W,0DBJj7cIbTdCPmrvGlz4AH,1VDfvBUMwL3m1Sd9dMorR4,2iANaOu9ypAYmuiHf1QoIa,54F4Vou1VXstyMzc2TcWGL,4X6Ndo3FHuYqHJmtRFaO2j,61eLbzsRkyGfRV8KcAVDGG,54PjbXrV6ONeRRZ0Ryvjzg,3L6OJHHhcFaMpWDxLRDhKr,3rTvXpSq6fDU1PitJlmnhm,3Kx7gavZ1oFRnB2trqLLLM,1MnYnayoEmTfZTM7GoPJGM,6NzoVYiCWulsOECuaXDazA,3OgdqZIgGIqusstV9IqX6p,60Jqns1ivZYGsupZATGbXv,61B6R29gn6rEbhHzLv9ess,2xeTDoozKW0Igu501Yntux,0Jl7f00nog4z31Cw2xYZqP,10WWosq6z75o3WGRjL4v2D,5eGSOtR7j0LuzmM8F0dCAW,58619fQo4MdO8FYMnoWy66,22LulLIuYZS8qspHQeVi7w,4G8vN8TG4Pl2V105VEn34D,3f3ujFD6YndqRRVYuBcq7T,76Cui452ccAdNSbiileyhZ,1H52Xqp7dqMUCchXW0dXfv,20B2I2t11yceg5v6CSdF2C,1XZK1B904mtFv1Ze3Rgeg2,0WjgqfgjsdwZnwUBCqdOxq,1OcV53oesLQw3VTW9I3uD3,46BjFXnWrumhdl0uvk7IwE,4xOTz6yh8r0mXZwzhvWuna:\n",
      " None, reason: None\n",
      "   ⚠️ Could not fetch batch 8. Error: http status: 403, code: -1 - https://api.spotify.com/v1/audio-features/?ids=6Gfbu9oUqUabKtnd6QM31o,25ZtcdNKE1WBjMrizwlWhO,1mEQbSq0PCNjyL6oMgHKFQ,2pi42mKKIyoVCJ51IP2YBj,5byb8ihCSCwtDnmCxjJl2q,6Sf7lbstyKeEr2e95oF4Qj,5JB00a3RQWtVWqo6QDySuh,5Yn3xl6mbfzTIwiWZn8lud,72R88Czym52F41DZWxL2fY,2Gq5bNo8TW621rc1Rrgnkv,3o5HBXj6lHDYX3a8jjuq40,0TsqrYn4ta8Xkvez2oHx7B,3xcf6DL9oc2botvStMUlnD,0evXzmUwGhLKtuVLg83oLx,0BI2JnruCf2fZt7Jp1vU3b,7bgYrlMU0S1wfNPPD4A91Z,4nS8zcaOLQqrLOdCPMPQjS,2ipIPsgrgd0j2beDf4Ki70,0p0MAIlilvpexlqnTVJjII,0U1nO2frLx8w2dIsfvlP1d,5AvrkGFKSu7Hj66y7BPiBE,7uWS4zoWMNU9fUPojMYilC,6zWH2EwilZeTmHadADRJYG,19poh0XywcD5wPO6YuIgXT,4lWnh8J3XsWTtG20xWFjfF,40LqINLIDhx5qEJQfG7rnN,3XvpJRDF9ZPkoEWIkTDVoy,6QNvGDyclysWjq7QQcWHAk,3yBj8i8CwSThNNtWVqwje9,3wLvOITQt7cbK4KzQ3dufu,1WKafez8TM4dVYlSsxi6dS,3TesGaCMKpcLnZackJcBX8,71GABxN1QMc3RbtKqhYvXb,6OfVUaklMbXcR1qOeqqqvc,2Km8hIwZJWq7migmM1dZzy,1eTaznNW4Xxtx9za2SMTXB,6e2uvfP3pRdxsQLFSnbJPO,1MhXchY126AX5Iuv4Odbe8,2WCbUIIPHbX6t9M0UH0p4S,42ff9QhhQJM5StZgnHNAe9,48Aaun4BxBWZFZbIJeAlpM,7tTTe6pCTxB55H9NWLxYNM,1q9TpHnaObjSKINEJPXaPx,0vBqDdVYnqGAD41TsizN73,52NFoPnzxOKPIcJIQ9mb5Q,1CqyErlQstROOe9hAn93oI,5kILHrfMHQ4eFHZqnu4yY3,6uS58ykUmaKr8YWIecDPP6,2kTnXxFUsLjpdkCf4PEPKg,4KjYUChBj4tlC2h8AU9q8H,0TWdO0ephIotzHvGuv2pGC,5rYlZ8gsixT7gM3ny5qBYJ,6nkQrHvWMu0vSse3nQGSPV,2Is8alFOh4eCKkWitOscTZ,0eMZLYOjO2exv90CuER4B7,4KhB8OWT2SE20IFXA2Do2Q,3NRMx8ZKh6OHPotPxW4O4C,2DewmibGFWxakcxvVyf2Tv,7AKwWqnoMmvCqBQtcdIECG,7rzzByujLJIBXpyOCnJhfx,3P28x30LU3FhaAvNkTSliI,321yySUTzRXUbzkRTeTzDB,29iva9idM6rFCPUlu7Rhxl,1j8TmNa6vaFAEAws43kP0Q,3IjFwyQmjlLTrApPSGOlf8,3f4evenChyF1t9DCZAlCdS,1QH0jep0GpK2fh22owVsSV,5iSdtklaHGhsLtWZDgFUiB,3rnu806sQS4sNydAjQRhdO,2gRlr7ST008bLvbqNKDjYd,7xIoinMSiwIp5BWR7toO1O,6YzWNNWyxVGC0eczvuUtmF,4Qia8t2vNSY3qyMYe6zCU9,7K2iEmgO52wqPyCbulVqBm,2CMfnYSI28O570OE7ExscU,01U0X0ToQhK0AgvNUdyXQe,4BguFKjpssDGdARiq5vVmn,1iJ9cSEWYQsd2M7ROFyIZx,4FEgmZNndauGaHjSM4AGiH,4bqoWiI9AM0rrpbR1lrHIJ,7mfbHPYJNdBilOyRqsl8Fe,0aWHb6ujnlXkmmOI1ltStc,48kPIdu8fCPzTENDILb6Ux,774nTFW1ucloOlrlHteqjU,5pyo1cM0fR2EDJwHLkdOSh,3ODfNdDz9b9VmABFncYmPG,01Rxgjh6AJ2jc8CTt1tUfk,3z0wu0aE5CGRKyklWuBV6H,5JgNxMf1Z9oksGKidbFAUq,0GKdibD4JGcANUZG39kxfs,6ae7Ljp0zKyLPSesJRc91w,0kTSKLxL788crf000tgIjp,4svSxX04Y90JGFM9j35tyW,6CgEmAzP3v3FKF3Gg46O5L,68Obsp7H5akdfFR4geTZpD,6QhN2P52cAEYZPjVAUjSJF,4PJAJTXmQ83BPxWEMm9A2T,3oh6b3sfhR5QeV3T44pit1,2RyHGy4fZLSaKm6K0jQFOm,2ZaXLh6S6MX7hhEE3RiUUb:\n",
      " None, reason: None\n"
     ]
    },
    {
     "name": "stderr",
     "output_type": "stream",
     "text": [
      "HTTP Error for GET to https://api.spotify.com/v1/audio-features/?ids=44U1bVG6imxYfDUtd8KvTZ,4uQnwt6cBokQsIRKIl1VOT,38bCx6AbjjduaSVlgIwKZP,0ItVps4GAVBmOg8o9ZHEip,4DQNdeDEnbJIckoZ8XLg7G,3E3UHWv6I1WD2PqBjbeXn7,3ZZyUf7WkhfN1JkQZZ00fI,47mNWUCgJoXqVWb3UZytVa,0LgdXFDT9AfjMyaeoxBT2P,2GAZrSRYZQKyJM0VOBpS3U,4yFPKNzjkCS0PpRzhcvy1d,4XKCwXacGJ0Am1s7oD2rDM,4s1jXpACCXFDNYTKWKH3tq,41goAg1ZxePWjXXfZ7PhG7,4fEdyp5iZ7I8sWI9jcBSbp,2kpUNuingcchFIhLrbWxIO,3SOaoZ1AfhMjEMCJrdGKEw,7nHIOaMV7RMXkViqwl7lLT,5pe8674S8FnKW8tNpHFjAZ,290eKCMBc9f9CcSLFuQrim,2ETQsbiuGm2WLOSOr2I19A,5ehXToeJ8Tgc4wMhY42Oul,717s9KFmHhyy5t3xkStS56,28odUt3kXBD3wObHf87GVv,5DcEQDn2P3fmTHEOMSvbhi,42GKyvz5KBsHTBaLpo3cqJ,6islh8bFrZUUuFFCveWPfl,3vbFjvzmJLrdttGuDhGrzi,4b3W0IbHDwHCvjSs708Tr4,2RkZ5LkEzeHGRsmDqKwmaJ,0je57Uq5eTk1wrPzn9sWbl,0ILLfGp9z1pukpjifsfkxx,56sExwBBmnDoRErXqghqrW,56n4ZSuQrwdLjfx4UUrMvP,6tNQ70jh4OwmPGpYy6R2o9,50s7qiLWfzgpAsDqwfjS5D,7wMnlYWFlogro7Xv2pgmUj,2vMXaguuN4UKXfoRlxySuG,5P9nLjjpKczdnhypJa5teO,35J5md68GWAKbQ1Ys94S10,6393yGahSJ9slVdOwSxOVR,0lUXjVdwD90F7coLj0aabz,3H6xZgwRZx8McVUJzmMxWe,2qSkIjg1o9h3YT9RAgYN75,1bijeLU02xi68lCIB6BWL9,1UrwJzlNC2oaTlxj1OZmcu,0EinquS6uL1mPBOTQnKomo,1Cbl3Yq8rHo7hhDQmLQagU,0UsJ9rmUdyUkggAWRDRp3T,009mbur8TQQ0kvfJMXoVas,2FQrifJ1N335Ljm3TjTVVf,31Bc5ljAHxRYpuX7gERdgh,5Z0UnEtpLDQyYlWwgi8m9C,3h112NNSQNJIIYO019rEZ2,4LRPiXqCikLlN15c3yImP7,0UYnhUfnUj5adChuAXvLUB,0WtM2NBVQNNJLh6scP13H8,5CVHKVnrnszHpRhblPPr1A,5TFD2bmFKGhoCRbX61nXY5,5N3hjp1WNayUPZrA8kJmJP,6bRShWkISHLntvD63TTbGn,0io16MKpbeDIdYzmGpQaES,2cf8mtws6a6Rf3hPaRRHvU,5uQ7de4EWjb3rkcFxyEOpu,609ouDQ0nUbC68l3qeVNX4,2CspwnypzT7rcWI9RfsoSb,4xdBrk0nFZaP54vvZj0yx7,6XolXnd1meZ5clHVnBOdiz,6MzofobZt2dm0Kf1hTThFz,0OA00aPt3BV10qeMIs3meW,5J7Rga4BSHrDCTmUuGzSiG,7gaA3wERFkFkgivjwbSvkG,3rUGC1vUpkDG9CZFHMur1t,2nRYdAZpfHZ4TngoMZiRfr,3yDRcs0Y4pPzkvMbUfeF9H,4VWrZCmvviUwNrboVw6dM6,0yLdNVWF3Srea0uzk55zFn,7GzG576kRqJqBPe6Owokoy,2OzhQlSqBEmt7hmkYxfT6m,5mjYQaktjmjcMKcUIcqz4s,1o2eTrTQChSdxbMQLBHLod,1vYXt7VSjH9JIM5oRRo7vA,7H7SIkUTvK6LTuadr2qmzl,5pOnmZnc4FsF9e04Etv5X3,1odExI7RdWc4BT515LTAwj,3c4eCEHwZpIWeMEMeoijJq,3k79jB4aGmMDUQzEwa46Rz,1XHDV6SXCnyKKlp2KM8vHo,1z5ebC9238uGoBgzYyvGpQ,24XihnoVPWXlKJ4BgXqjVM,2jsTgVpKp7xi5LA3nwDxZL,7fzHQizxTqy8wTXwlrgPQQ,0o9qBOmQbJCDZwPE3ODJPY,4uUG5RXrOk84mYEfFvj3cK,5NfNX3vbMvmdQaThELc4w3,2hrycoFU1mZw6YPvMcn8yC,6me7F0aaZjwDo6RJ5MrfBD,0KR3pUIeWnK7qwf9QhVBRZ,1BxfuPKGuaTgP7aM0Bbdwr,3KriVQLsHVN0AjJM9ntHrN with Params: {} returned 403 due to None\n",
      " 82%|████████▏ | 9/11 [00:01<00:00,  6.38it/s]HTTP Error for GET to https://api.spotify.com/v1/audio-features/?ids=3qhlB30KknSejmIvZZLjOD,5GYgvwMW7g69Rqtzh9GWBM,46kspZSY3aKmwQe7O77fCC,7221xIgOnuakPdLqT0F3nP,4lGHyCRc06uJfcUaidaihu,0mflMxspEfB0VbI1kyLiAv,0sPs2Nm4rPaM79v3IiG2iY,4wyVH6ARfIC1FSvbk1WB5S,3WW5aPbiVEeRGOSQ8Ax1AA,6vvPecFTmWxDfEJ6cYT1wa,4dfTIzn1xxI1JWSOxMXjdH,6jlG8gBPNAgBgoivw2Ig09,0hhzNPE68LWLfgZwdpxVdR,0u6LpMA9z4ZY3PKRXQfrxP,3lMzT16MjAKKXF7pSZn13B,4xhsWYTOGcal8zt0J161CU,0K0N6C3YIxFa2s5zqdzvDx,59xD5osEFsaNt5PXfIKUnX,57wp7VFnV8X0pSVnYArGeJ,0C0J8cA9JgNFnM6AwgLpav,0WIv5qV41y6YjjB9V1biuC,3X1nyZBKJTRkWafIPrcbJ1,51eSHglvG1RJXtL3qI5trr,0HD8mbiPjp3o94X3EaZp0o,2yON4K72dyEULF0rvaRUVH,7CyPwkp0oE8Ro9Dd5CUDjW,0Z7nGFVCLfixWctgePsRk9,6onHlKPSaazIBBk1yoTbxu,59NraMJsLaMCVtwXTSia8i,2IGMVunIBsBLtEQyoI1Mu7,6rj53PST8AEw4JRtY5kzab,4ZJ4vzLQekI0WntDbanNC7,629DixmZGHc7ILtEntuiWE,6yf7OCIxFzTZwWa5fHoOGS,52eIcoLUM25zbQupAZYoFh,5MPi9e7z46wopyad10R6qx,3Pbp7cUCx4d3OAkZSCoNvn,7utd11pF5xRKn2RviFuRSN,0ve0CavjqrUqVmZ605RhTV,1Fav4xZn60uGM3XmiHJmvT,0Lmbke3KNVFXtoH2mMSHCw,0FrhRZFctEfmdSBVCKrsvA,2tudvzsrR56uom6smgOcSf,7BRD7x5pt8Lqa1eGYC4dzj,2dHHgzDwk4BJdRwy9uXhTO,2EgFJVXw76TqnoSjwk7htO,3vkCueOmm7xQDoJ17W1Pm3,7x9aauaA9cu6tyfpHnqDLo,3U5JVgI2x4rDyHGObzJfNf,3BKD1PwArikchz2Zrlp1qi,636XiaUCYflWzSgLrpC2A5,1bjeWoagtHmUKputLVyDxQ,6ehWdR7cGDXnT7aKEASJxE,4OMJGnvZfDvsePyCwRGO7X,3x75aqPUfrKUDPUdTzC65Q,0LMwmV37RCmBO2so0szAFs,6uTPdRrEDeH8Fyg5L5qmeU,4W4fNrZYkobj539TOWsLO2,60xJXlshYApX35xsUsXlHp,4tKGFmENO69tZR9ahgZu48,7jrI96onnEzgwPKacNJUCz,23RoR84KodL5HWvUTneQ1w,7oAbPOF0jpHxEjQcKOQNPp,2Zo1PcszsT9WQ0ANntJbID,2KslE17cAJNHTsI2MI0jb2,6wf7Yu7cxBSPrRlWeSeK0Q,4fqdWNsoOpyYKJTz36R3QB,31MNHKE86sEXzIglbGQ6mu,2i8f4VnnBjy0yDqH2C452a,4KULAymBBJcPRpk1yO4dOG,5oTeS54T2KErbIe5XwJbjW,7FbrGaHYVDmfr7KoLIZnQ7,5rurggqwwudn9clMdcchxT,741UUVE2kuITl0c6zuqqbO,47iu7KWKt6Sa6ocHgYmkGx,1Qrg8KqiBpW07V7PNxwwwL,3xIMkM5LgbVDkpO74O3Np3,1Dsee91MSgdtDmO4UNXiJo,26b3oVLrRUaaybJulow9kz,22dUzMFttcR3uU17NcOAIv,1xzi1Jcr7mEi9K2RfzLOqS,4uVML1MFsShK561usIGmX5,78Sw5GDo6AlGwTwanjXbGh,4C6Uex2ILwJi9sZXRdmqXp,7KA4W4McWYRpgf0fWsJZWB,4VGp1Z4y575IogxJXZcrf6,3nqQXoyQOWXiESFLlDF1hG,41WQUSINanQHfhfKpFDsms,4k6Uh1HXdhtusDW5y8Gbvy,4DU09gZAUnzBL0c5PRmxnx,5eTaQYBE1yrActixMAeLcZ,0mBP9X2gPCuapvpZ7TGDk3,2lWc1iJlz2NVcStV5fbtPG,3SUlw7sPD01NdIEX2NwUtk,4h9wh7iOZ0GGn8QVp4RAOB,6AQbmUe0Qwf5PZnt4HmTXv,0V3wPSX9ygBnCm8psDIegu,4Z4usAVuq7SzRhmG3Bs8Z3,1ckhUtD8nBH2ShPlU8w2nU,5Z2MiIZ5I3jJvvmeWMLbOQ with Params: {} returned 403 due to None\n",
      " 91%|█████████ | 10/11 [00:01<00:00,  6.19it/s]"
     ]
    },
    {
     "name": "stdout",
     "output_type": "stream",
     "text": [
      "   ⚠️ Could not fetch batch 9. Error: http status: 403, code: -1 - https://api.spotify.com/v1/audio-features/?ids=44U1bVG6imxYfDUtd8KvTZ,4uQnwt6cBokQsIRKIl1VOT,38bCx6AbjjduaSVlgIwKZP,0ItVps4GAVBmOg8o9ZHEip,4DQNdeDEnbJIckoZ8XLg7G,3E3UHWv6I1WD2PqBjbeXn7,3ZZyUf7WkhfN1JkQZZ00fI,47mNWUCgJoXqVWb3UZytVa,0LgdXFDT9AfjMyaeoxBT2P,2GAZrSRYZQKyJM0VOBpS3U,4yFPKNzjkCS0PpRzhcvy1d,4XKCwXacGJ0Am1s7oD2rDM,4s1jXpACCXFDNYTKWKH3tq,41goAg1ZxePWjXXfZ7PhG7,4fEdyp5iZ7I8sWI9jcBSbp,2kpUNuingcchFIhLrbWxIO,3SOaoZ1AfhMjEMCJrdGKEw,7nHIOaMV7RMXkViqwl7lLT,5pe8674S8FnKW8tNpHFjAZ,290eKCMBc9f9CcSLFuQrim,2ETQsbiuGm2WLOSOr2I19A,5ehXToeJ8Tgc4wMhY42Oul,717s9KFmHhyy5t3xkStS56,28odUt3kXBD3wObHf87GVv,5DcEQDn2P3fmTHEOMSvbhi,42GKyvz5KBsHTBaLpo3cqJ,6islh8bFrZUUuFFCveWPfl,3vbFjvzmJLrdttGuDhGrzi,4b3W0IbHDwHCvjSs708Tr4,2RkZ5LkEzeHGRsmDqKwmaJ,0je57Uq5eTk1wrPzn9sWbl,0ILLfGp9z1pukpjifsfkxx,56sExwBBmnDoRErXqghqrW,56n4ZSuQrwdLjfx4UUrMvP,6tNQ70jh4OwmPGpYy6R2o9,50s7qiLWfzgpAsDqwfjS5D,7wMnlYWFlogro7Xv2pgmUj,2vMXaguuN4UKXfoRlxySuG,5P9nLjjpKczdnhypJa5teO,35J5md68GWAKbQ1Ys94S10,6393yGahSJ9slVdOwSxOVR,0lUXjVdwD90F7coLj0aabz,3H6xZgwRZx8McVUJzmMxWe,2qSkIjg1o9h3YT9RAgYN75,1bijeLU02xi68lCIB6BWL9,1UrwJzlNC2oaTlxj1OZmcu,0EinquS6uL1mPBOTQnKomo,1Cbl3Yq8rHo7hhDQmLQagU,0UsJ9rmUdyUkggAWRDRp3T,009mbur8TQQ0kvfJMXoVas,2FQrifJ1N335Ljm3TjTVVf,31Bc5ljAHxRYpuX7gERdgh,5Z0UnEtpLDQyYlWwgi8m9C,3h112NNSQNJIIYO019rEZ2,4LRPiXqCikLlN15c3yImP7,0UYnhUfnUj5adChuAXvLUB,0WtM2NBVQNNJLh6scP13H8,5CVHKVnrnszHpRhblPPr1A,5TFD2bmFKGhoCRbX61nXY5,5N3hjp1WNayUPZrA8kJmJP,6bRShWkISHLntvD63TTbGn,0io16MKpbeDIdYzmGpQaES,2cf8mtws6a6Rf3hPaRRHvU,5uQ7de4EWjb3rkcFxyEOpu,609ouDQ0nUbC68l3qeVNX4,2CspwnypzT7rcWI9RfsoSb,4xdBrk0nFZaP54vvZj0yx7,6XolXnd1meZ5clHVnBOdiz,6MzofobZt2dm0Kf1hTThFz,0OA00aPt3BV10qeMIs3meW,5J7Rga4BSHrDCTmUuGzSiG,7gaA3wERFkFkgivjwbSvkG,3rUGC1vUpkDG9CZFHMur1t,2nRYdAZpfHZ4TngoMZiRfr,3yDRcs0Y4pPzkvMbUfeF9H,4VWrZCmvviUwNrboVw6dM6,0yLdNVWF3Srea0uzk55zFn,7GzG576kRqJqBPe6Owokoy,2OzhQlSqBEmt7hmkYxfT6m,5mjYQaktjmjcMKcUIcqz4s,1o2eTrTQChSdxbMQLBHLod,1vYXt7VSjH9JIM5oRRo7vA,7H7SIkUTvK6LTuadr2qmzl,5pOnmZnc4FsF9e04Etv5X3,1odExI7RdWc4BT515LTAwj,3c4eCEHwZpIWeMEMeoijJq,3k79jB4aGmMDUQzEwa46Rz,1XHDV6SXCnyKKlp2KM8vHo,1z5ebC9238uGoBgzYyvGpQ,24XihnoVPWXlKJ4BgXqjVM,2jsTgVpKp7xi5LA3nwDxZL,7fzHQizxTqy8wTXwlrgPQQ,0o9qBOmQbJCDZwPE3ODJPY,4uUG5RXrOk84mYEfFvj3cK,5NfNX3vbMvmdQaThELc4w3,2hrycoFU1mZw6YPvMcn8yC,6me7F0aaZjwDo6RJ5MrfBD,0KR3pUIeWnK7qwf9QhVBRZ,1BxfuPKGuaTgP7aM0Bbdwr,3KriVQLsHVN0AjJM9ntHrN:\n",
      " None, reason: None\n",
      "   ⚠️ Could not fetch batch 10. Error: http status: 403, code: -1 - https://api.spotify.com/v1/audio-features/?ids=3qhlB30KknSejmIvZZLjOD,5GYgvwMW7g69Rqtzh9GWBM,46kspZSY3aKmwQe7O77fCC,7221xIgOnuakPdLqT0F3nP,4lGHyCRc06uJfcUaidaihu,0mflMxspEfB0VbI1kyLiAv,0sPs2Nm4rPaM79v3IiG2iY,4wyVH6ARfIC1FSvbk1WB5S,3WW5aPbiVEeRGOSQ8Ax1AA,6vvPecFTmWxDfEJ6cYT1wa,4dfTIzn1xxI1JWSOxMXjdH,6jlG8gBPNAgBgoivw2Ig09,0hhzNPE68LWLfgZwdpxVdR,0u6LpMA9z4ZY3PKRXQfrxP,3lMzT16MjAKKXF7pSZn13B,4xhsWYTOGcal8zt0J161CU,0K0N6C3YIxFa2s5zqdzvDx,59xD5osEFsaNt5PXfIKUnX,57wp7VFnV8X0pSVnYArGeJ,0C0J8cA9JgNFnM6AwgLpav,0WIv5qV41y6YjjB9V1biuC,3X1nyZBKJTRkWafIPrcbJ1,51eSHglvG1RJXtL3qI5trr,0HD8mbiPjp3o94X3EaZp0o,2yON4K72dyEULF0rvaRUVH,7CyPwkp0oE8Ro9Dd5CUDjW,0Z7nGFVCLfixWctgePsRk9,6onHlKPSaazIBBk1yoTbxu,59NraMJsLaMCVtwXTSia8i,2IGMVunIBsBLtEQyoI1Mu7,6rj53PST8AEw4JRtY5kzab,4ZJ4vzLQekI0WntDbanNC7,629DixmZGHc7ILtEntuiWE,6yf7OCIxFzTZwWa5fHoOGS,52eIcoLUM25zbQupAZYoFh,5MPi9e7z46wopyad10R6qx,3Pbp7cUCx4d3OAkZSCoNvn,7utd11pF5xRKn2RviFuRSN,0ve0CavjqrUqVmZ605RhTV,1Fav4xZn60uGM3XmiHJmvT,0Lmbke3KNVFXtoH2mMSHCw,0FrhRZFctEfmdSBVCKrsvA,2tudvzsrR56uom6smgOcSf,7BRD7x5pt8Lqa1eGYC4dzj,2dHHgzDwk4BJdRwy9uXhTO,2EgFJVXw76TqnoSjwk7htO,3vkCueOmm7xQDoJ17W1Pm3,7x9aauaA9cu6tyfpHnqDLo,3U5JVgI2x4rDyHGObzJfNf,3BKD1PwArikchz2Zrlp1qi,636XiaUCYflWzSgLrpC2A5,1bjeWoagtHmUKputLVyDxQ,6ehWdR7cGDXnT7aKEASJxE,4OMJGnvZfDvsePyCwRGO7X,3x75aqPUfrKUDPUdTzC65Q,0LMwmV37RCmBO2so0szAFs,6uTPdRrEDeH8Fyg5L5qmeU,4W4fNrZYkobj539TOWsLO2,60xJXlshYApX35xsUsXlHp,4tKGFmENO69tZR9ahgZu48,7jrI96onnEzgwPKacNJUCz,23RoR84KodL5HWvUTneQ1w,7oAbPOF0jpHxEjQcKOQNPp,2Zo1PcszsT9WQ0ANntJbID,2KslE17cAJNHTsI2MI0jb2,6wf7Yu7cxBSPrRlWeSeK0Q,4fqdWNsoOpyYKJTz36R3QB,31MNHKE86sEXzIglbGQ6mu,2i8f4VnnBjy0yDqH2C452a,4KULAymBBJcPRpk1yO4dOG,5oTeS54T2KErbIe5XwJbjW,7FbrGaHYVDmfr7KoLIZnQ7,5rurggqwwudn9clMdcchxT,741UUVE2kuITl0c6zuqqbO,47iu7KWKt6Sa6ocHgYmkGx,1Qrg8KqiBpW07V7PNxwwwL,3xIMkM5LgbVDkpO74O3Np3,1Dsee91MSgdtDmO4UNXiJo,26b3oVLrRUaaybJulow9kz,22dUzMFttcR3uU17NcOAIv,1xzi1Jcr7mEi9K2RfzLOqS,4uVML1MFsShK561usIGmX5,78Sw5GDo6AlGwTwanjXbGh,4C6Uex2ILwJi9sZXRdmqXp,7KA4W4McWYRpgf0fWsJZWB,4VGp1Z4y575IogxJXZcrf6,3nqQXoyQOWXiESFLlDF1hG,41WQUSINanQHfhfKpFDsms,4k6Uh1HXdhtusDW5y8Gbvy,4DU09gZAUnzBL0c5PRmxnx,5eTaQYBE1yrActixMAeLcZ,0mBP9X2gPCuapvpZ7TGDk3,2lWc1iJlz2NVcStV5fbtPG,3SUlw7sPD01NdIEX2NwUtk,4h9wh7iOZ0GGn8QVp4RAOB,6AQbmUe0Qwf5PZnt4HmTXv,0V3wPSX9ygBnCm8psDIegu,4Z4usAVuq7SzRhmG3Bs8Z3,1ckhUtD8nBH2ShPlU8w2nU,5Z2MiIZ5I3jJvvmeWMLbOQ:\n",
      " None, reason: None\n"
     ]
    },
    {
     "name": "stderr",
     "output_type": "stream",
     "text": [
      "HTTP Error for GET to https://api.spotify.com/v1/audio-features/?ids=39JofJHEtg8I4fSyo7Imft,6JVOeKaRMwFjgiH3IbZhW1,0JXXNGljqupsJaZsgSbMZV,1SRw5p2lVAi7RGlHEmZg66,6dgUya35uo964z7GZXM07g,1blLiE48uAhJAebV9dnODK,1qEmFfgcLObUfQm0j1W2CK,0QPRDC97rIQB3Jh3hrVJoH,1rrqJ9QkOBYJlsZgqqwxgB,1KQ0AjjjByOHxGSCfrMJ7Q,0QBzMgT7NIeoCYy3sJCof1,2i2gDpKKWjvnRTOZRhaPh2,5ww2BF9slyYgNOk37BlC4u,51TYqTZ1eTZsHVcrt0mmqe,1xK59OXxi2TAAAbmZK0kBL,1PckUlxKqWQs3RlWXVBLw3,2L9N0zZnd37dwF0clgxMGI,6Yqw4HtJuFXleJtgzYXWzT,3ydF3JegxOkpoVy9gIfpXC,4AuRsGcSsNqslLywUCWhAG,57zEYntUat0ofbFpoicN26,5CWQ9WBbd1HESogIIuTlVI,2C72bOiY3kbCgDBBznoejk,0JLLcOdBUKfDtzY0seXQHC,7KkaBto4aewGt8wl6q6wxH,4cEhCuw7sLZsLIQA1EBvxZ,1E5zyR7GT3PKjH3cqhVXVf,3ppaMjhBDxRi2kTpawOSJn,2ChLs6LH0Kc6h2f7WI2l0w,6xSuenHgNaeQDRiHr8qKpm,0iIvZ25h16B9DhjptYp8hK,2DDOQBKGmkv7bPoYF1bELz,2Ej4vdkwwBDyE6QfFWaXUF,7ILXon2PBU1bGYemfNg91q,1E5m5P8d7C5zMTkyP0BlRa,1jfpL95gwUMTPd9R3wdvaF,2VbhYoAVNbADZEPmbRhw5E,6jUscicoyUljrPOdQCfhnd,5pOY1Vg2TIIbVBfR6yAg0C,2nUVecgsUy7qfccJyn1VNh,6SHMdpkJr50QnoRkjkO4G2,6T0LocGX7t4yz89Cgt8hYM,1s9ryZb4SbWAp3qWecSSuA,0fYTkcBMtjtP4hzoOxGgSF,5L6yb0KfkE1pjRbzcyMBo7,1SbK7OHdqsTUfzPVKylwND,7IsCmld8aCYXj1NbSn9t2K,6E2MIXNryG2WcVb9sh1I8L,14I31bbtEZVADFi1uCcxcu,5DN8dF1Q0K8G6pgCQjqVvF,4QMZ6gwFTLk9qOhaQsGIxf,4EXaBrHaGrjiYoowkVHCB0,19BctQls0bL7UTZ9OPKf17,0VcO1SA3oUKl1qHSUc6LxQ,2kFaEZJM9coKfesI5LOaPJ,4YpxBrMONvVqbmXmYI2P5M,2c2dNWJodzG6aQMW0imtag,2qFuMG7RbmnNG6cErUGxnK,2x2W7PnBelMmLZBV6YqRFQ,2C5KGxHkq4ePV51ES40dxO,3ItE7iVVk4m6sOyT8ICLUd,2xofTipSxfwbxwSdBcjYIe,3CW0qWSqqqDvQWritNm7bC,0hwlEWBrraTWI9PTNzG0RJ,1C2gJaINSao4GEXySYopiS,3ZqeNBb81jeCgzwI8z9ShC,1NXSmIEOulY9u4TxwuSUoe,2mzn1j4SQYXj1AFiK9fwtM,5n1FBtJgcDePfo8q6hBQPu,4gMkx11wd9IBDGnkuN1zGT,5joFrAOgnHZ9JNQgNY4Ovj,4NrlxQDeovmfrrPcm9AWcN,2wrL7iRsG4bIAfN4bLUjK3,4FbXSC3TRQy78dwUIoqH2l,5WnlpdU8nHfbogtkAl6k8E,7iw8UK1hzvAvvXKhSeKFeg,4vX7VKZYx1wGAq5DKBTfAF,0m2P7M2IBLK08aWfhcHOMF with Params: {} returned 403 due to None\n",
      "100%|██████████| 11/11 [00:01<00:00,  6.46it/s]"
     ]
    },
    {
     "name": "stdout",
     "output_type": "stream",
     "text": [
      "   ⚠️ Could not fetch batch 11. Error: http status: 403, code: -1 - https://api.spotify.com/v1/audio-features/?ids=39JofJHEtg8I4fSyo7Imft,6JVOeKaRMwFjgiH3IbZhW1,0JXXNGljqupsJaZsgSbMZV,1SRw5p2lVAi7RGlHEmZg66,6dgUya35uo964z7GZXM07g,1blLiE48uAhJAebV9dnODK,1qEmFfgcLObUfQm0j1W2CK,0QPRDC97rIQB3Jh3hrVJoH,1rrqJ9QkOBYJlsZgqqwxgB,1KQ0AjjjByOHxGSCfrMJ7Q,0QBzMgT7NIeoCYy3sJCof1,2i2gDpKKWjvnRTOZRhaPh2,5ww2BF9slyYgNOk37BlC4u,51TYqTZ1eTZsHVcrt0mmqe,1xK59OXxi2TAAAbmZK0kBL,1PckUlxKqWQs3RlWXVBLw3,2L9N0zZnd37dwF0clgxMGI,6Yqw4HtJuFXleJtgzYXWzT,3ydF3JegxOkpoVy9gIfpXC,4AuRsGcSsNqslLywUCWhAG,57zEYntUat0ofbFpoicN26,5CWQ9WBbd1HESogIIuTlVI,2C72bOiY3kbCgDBBznoejk,0JLLcOdBUKfDtzY0seXQHC,7KkaBto4aewGt8wl6q6wxH,4cEhCuw7sLZsLIQA1EBvxZ,1E5zyR7GT3PKjH3cqhVXVf,3ppaMjhBDxRi2kTpawOSJn,2ChLs6LH0Kc6h2f7WI2l0w,6xSuenHgNaeQDRiHr8qKpm,0iIvZ25h16B9DhjptYp8hK,2DDOQBKGmkv7bPoYF1bELz,2Ej4vdkwwBDyE6QfFWaXUF,7ILXon2PBU1bGYemfNg91q,1E5m5P8d7C5zMTkyP0BlRa,1jfpL95gwUMTPd9R3wdvaF,2VbhYoAVNbADZEPmbRhw5E,6jUscicoyUljrPOdQCfhnd,5pOY1Vg2TIIbVBfR6yAg0C,2nUVecgsUy7qfccJyn1VNh,6SHMdpkJr50QnoRkjkO4G2,6T0LocGX7t4yz89Cgt8hYM,1s9ryZb4SbWAp3qWecSSuA,0fYTkcBMtjtP4hzoOxGgSF,5L6yb0KfkE1pjRbzcyMBo7,1SbK7OHdqsTUfzPVKylwND,7IsCmld8aCYXj1NbSn9t2K,6E2MIXNryG2WcVb9sh1I8L,14I31bbtEZVADFi1uCcxcu,5DN8dF1Q0K8G6pgCQjqVvF,4QMZ6gwFTLk9qOhaQsGIxf,4EXaBrHaGrjiYoowkVHCB0,19BctQls0bL7UTZ9OPKf17,0VcO1SA3oUKl1qHSUc6LxQ,2kFaEZJM9coKfesI5LOaPJ,4YpxBrMONvVqbmXmYI2P5M,2c2dNWJodzG6aQMW0imtag,2qFuMG7RbmnNG6cErUGxnK,2x2W7PnBelMmLZBV6YqRFQ,2C5KGxHkq4ePV51ES40dxO,3ItE7iVVk4m6sOyT8ICLUd,2xofTipSxfwbxwSdBcjYIe,3CW0qWSqqqDvQWritNm7bC,0hwlEWBrraTWI9PTNzG0RJ,1C2gJaINSao4GEXySYopiS,3ZqeNBb81jeCgzwI8z9ShC,1NXSmIEOulY9u4TxwuSUoe,2mzn1j4SQYXj1AFiK9fwtM,5n1FBtJgcDePfo8q6hBQPu,4gMkx11wd9IBDGnkuN1zGT,5joFrAOgnHZ9JNQgNY4Ovj,4NrlxQDeovmfrrPcm9AWcN,2wrL7iRsG4bIAfN4bLUjK3,4FbXSC3TRQy78dwUIoqH2l,5WnlpdU8nHfbogtkAl6k8E,7iw8UK1hzvAvvXKhSeKFeg,4vX7VKZYx1wGAq5DKBTfAF,0m2P7M2IBLK08aWfhcHOMF:\n",
      " None, reason: None\n",
      "\n",
      "❌ FAILED: No audio features were fetched. Please check your connection or credentials.\n"
     ]
    },
    {
     "name": "stderr",
     "output_type": "stream",
     "text": [
      "\n"
     ]
    }
   ],
   "source": [
    "import spotipy\n",
    "from spotipy.oauth2 import SpotifyClientCredentials\n",
    "import pandas as pd\n",
    "import os\n",
    "from dotenv import load_dotenv\n",
    "from tqdm import tqdm\n",
    "\n",
    "# --- 1. SETUP & AUTHENTICATION ---\n",
    "# This uses the simple server-to-server auth, which should work now.\n",
    "load_dotenv(\"../backend/.env\")\n",
    "CLIENT_ID = os.getenv(\"SPOTIPY_CLIENT_ID\")\n",
    "CLIENT_SECRET = os.getenv(\"SPOTIPY_CLIENT_SECRET\")\n",
    "INPUT_FILE = \"spotify_songs.csv\"\n",
    "OUTPUT_FILE = \"spotify_songs_complete.csv\"\n",
    "\n",
    "print(\"🔐 Authenticating...\")\n",
    "try:\n",
    "    auth_manager = SpotifyClientCredentials(client_id=CLIENT_ID, client_secret=CLIENT_SECRET)\n",
    "    sp = spotipy.Spotify(auth_manager=auth_manager)\n",
    "    print(\"✅ Authentication successful!\")\n",
    "except Exception as e:\n",
    "    print(f\"❌ Authentication failed: {e}\")\n",
    "    exit()\n",
    "\n",
    "# --- 2. LOAD YOUR EXISTING DATA ---\n",
    "print(f\"\\n🎵 Loading tracks from '{INPUT_FILE}'...\")\n",
    "df_tracks = pd.read_csv(INPUT_FILE)\n",
    "track_ids = df_tracks['track_id'].dropna().unique().tolist()\n",
    "print(f\"   Found {len(track_ids)} unique tracks to process.\")\n",
    "\n",
    "# --- 3. FETCH AND MERGE AUDIO FEATURES ---\n",
    "audio_features_list = []\n",
    "print(\"\\n🚀 Fetching audio features in batches...\")\n",
    "for i in tqdm(range(0, len(track_ids), 100)):\n",
    "    batch = track_ids[i:i+100]\n",
    "    try:\n",
    "        features = sp.audio_features(batch)\n",
    "        audio_features_list.extend([f for f in features if f])\n",
    "    except Exception as e:\n",
    "        print(f\"   ⚠️ Could not fetch batch {i//100 + 1}. Error: {e}\")\n",
    "\n",
    "if audio_features_list:\n",
    "    df_features = pd.DataFrame(audio_features_list)\n",
    "    df_features.rename(columns={'id': 'track_id'}, inplace=True)\n",
    "\n",
    "    # Merge the original data with the new audio features\n",
    "    df_complete = pd.merge(df_tracks, df_features, on='track_id', how='inner')\n",
    "\n",
    "    # --- 4. SAVE THE FINAL, COMPLETE DATASET ---\n",
    "    df_complete.to_csv(OUTPUT_FILE, index=False, encoding='utf-8')\n",
    "    print(f\"\\n🎉 SUCCESS! Saved {len(df_complete)} tracks with audio features to '{OUTPUT_FILE}'.\")\n",
    "    print(\"\\n📋 Preview of the final dataset:\")\n",
    "    print(df_complete[['track_name', 'artist', 'valence', 'energy', 'danceability']].head())\n",
    "else:\n",
    "    print(\"\\n❌ FAILED: No audio features were fetched. Please check your connection or credentials.\")"
   ]
  }
 ],
 "metadata": {
  "kernelspec": {
   "display_name": ".venv",
   "language": "python",
   "name": "python3"
  },
  "language_info": {
   "codemirror_mode": {
    "name": "ipython",
    "version": 3
   },
   "file_extension": ".py",
   "mimetype": "text/x-python",
   "name": "python",
   "nbconvert_exporter": "python",
   "pygments_lexer": "ipython3",
   "version": "3.13.3"
  }
 },
 "nbformat": 4,
 "nbformat_minor": 5
}
